{
 "cells": [
  {
   "cell_type": "code",
   "execution_count": 1,
   "metadata": {},
   "outputs": [],
   "source": [
    "import pandas as pd\n",
    "from finvizfinance.quote import finvizfinance"
   ]
  },
  {
   "cell_type": "code",
   "execution_count": 2,
   "metadata": {},
   "outputs": [],
   "source": [
    "stock = finvizfinance('mmm')"
   ]
  },
  {
   "cell_type": "code",
   "execution_count": 3,
   "metadata": {},
   "outputs": [
    {
     "data": {
      "text/plain": [
       "'https://finviz.com/chart.ashx?t=mmm&ty=c&ta=1&p=d'"
      ]
     },
     "execution_count": 3,
     "metadata": {},
     "output_type": "execute_result"
    }
   ],
   "source": [
    "stock.TickerCharts()"
   ]
  },
  {
   "cell_type": "code",
   "execution_count": 10,
   "metadata": {},
   "outputs": [
    {
     "data": {
      "text/plain": [
       "'3M Company develops, manufactures, and markets various products worldwide. It operates through four business segments: Safety and Industrial, Transportation and Electronics, Health Care, and Consumer. The Safety and Industrial segment offers personal safety products, industrial adhesives and tapes, abrasives, closure and masking systems, electrical markets, automotive aftermarket, and roofing granules to industrial, electrical, and safety markets. The Transportation and Electronics provides electronics, such as display materials and systems, electronic materials solutions; automotive and aerospace, and commercial solutions; advanced materials; and transportation safety products to transportation and electronic original equipment manufacturer customers. The Health Care segment offers medical and surgical supplies, skin health and infection prevention products, oral care, separation and purification sciences, health information systems, drug delivery systems, and food safety products to healthcare industry. The Consumer segment provides home improvement, home care, and consumer health care products, as well as stationery and office supplies to various consumers. This segment is also involved in the retail auto care business. It offers its products through various e-commerce and traditional wholesalers, retailers, jobbers, distributors, and dealers, as well as directly to users. 3M Company has a strategic collaboration with Merry Maids in residential cleaning sector. The company was founded in 1902 and is headquartered in St. Paul, Minnesota.'"
      ]
     },
     "execution_count": 10,
     "metadata": {},
     "output_type": "execute_result"
    }
   ],
   "source": [
    "stock_description = stock.TickerDescription()\n",
    "stock_description"
   ]
  },
  {
   "cell_type": "code",
   "execution_count": 11,
   "metadata": {},
   "outputs": [
    {
     "data": {
      "text/plain": [
       "{'Company': '3M Company',\n",
       " 'Sector': 'Industrials',\n",
       " 'Industry': 'Specialty Industrial Machinery',\n",
       " 'Country': 'USA',\n",
       " 'Index': 'DJIA S&P500',\n",
       " 'P/E': '19.40',\n",
       " 'EPS (ttm)': '9.25',\n",
       " 'Insider Own': '0.19%',\n",
       " 'Shs Outstand': '578.80M',\n",
       " 'Perf Week': '-0.94%',\n",
       " 'Market Cap': '103.01B',\n",
       " 'Forward P/E': '17.24',\n",
       " 'EPS next Y': '8.47%',\n",
       " 'Insider Trans': '-5.67%',\n",
       " 'Shs Float': '577.93M',\n",
       " 'Perf Month': '6.06%',\n",
       " 'Income': '5.38B',\n",
       " 'PEG': '2.78',\n",
       " 'EPS next Q': '2.30',\n",
       " 'Inst Own': '66.80%',\n",
       " 'Short Float': '1.35%',\n",
       " 'Perf Quarter': '3.17%',\n",
       " 'Sales': '32.18B',\n",
       " 'P/S': '3.20',\n",
       " 'EPS this Y': '18.40%',\n",
       " 'Inst Trans': '0.71%',\n",
       " 'Short Ratio': '2.86',\n",
       " 'Perf Half Y': '9.12%',\n",
       " 'Book/sh': '22.23',\n",
       " 'P/B': '8.07',\n",
       " 'ROA': '11.70%',\n",
       " 'Target Price': '182.93',\n",
       " 'Perf Year': '12.57%',\n",
       " 'Cash/sh': '8.77',\n",
       " 'P/C': '20.45',\n",
       " 'EPS next 5Y': '6.99%',\n",
       " 'ROE': '47.10%',\n",
       " '52W Range': '114.04 - 187.27',\n",
       " 'Perf YTD': '2.62%',\n",
       " 'Dividend': '5.92',\n",
       " 'P/FCF': '31.95',\n",
       " 'EPS past 5Y': '4.00%',\n",
       " 'ROI': '18.40%',\n",
       " '52W High': '-4.22%',\n",
       " 'Beta': '0.94',\n",
       " 'Dividend %': '3.30%',\n",
       " 'Quick Ratio': '1.40',\n",
       " 'Sales past 5Y': '1.20%',\n",
       " 'Gross Margin': '48.80%',\n",
       " '52W Low': '57.29%',\n",
       " 'ATR': '3.32',\n",
       " 'Employees': '94987',\n",
       " 'Current Ratio': '1.90',\n",
       " 'Sales Q/Q': '5.80%',\n",
       " 'Oper. Margin': '22.20%',\n",
       " 'RSI (14)': '56.39',\n",
       " 'Volatility': '1.67% 1.97%',\n",
       " 'Optionable': 'Yes',\n",
       " 'Debt/Eq': '1.46',\n",
       " 'EPS Q/Q': '43.00%',\n",
       " 'Profit Margin': '16.70%',\n",
       " 'Rel Volume': '0.76',\n",
       " 'Prev Close': '179.37',\n",
       " 'Shortable': 'Yes',\n",
       " 'LT Debt/Eq': '1.40',\n",
       " 'Earnings': 'Jan 26 BMO',\n",
       " 'Payout': '63.10%',\n",
       " 'Avg Volume': '2.72M',\n",
       " 'Price': '179.37',\n",
       " 'Recom': '3.00',\n",
       " 'SMA20': '1.21%',\n",
       " 'SMA50': '3.02%',\n",
       " 'SMA200': '9.15%',\n",
       " 'Volume': '0',\n",
       " 'Change': '0.00%'}"
      ]
     },
     "execution_count": 11,
     "metadata": {},
     "output_type": "execute_result"
    }
   ],
   "source": [
    "stock_fundament = stock.TickerFundament()\n",
    "stock_fundament"
   ]
  },
  {
   "cell_type": "code",
   "execution_count": 9,
   "metadata": {},
   "outputs": [
    {
     "data": {
      "text/html": [
       "<div>\n",
       "<style scoped>\n",
       "    .dataframe tbody tr th:only-of-type {\n",
       "        vertical-align: middle;\n",
       "    }\n",
       "\n",
       "    .dataframe tbody tr th {\n",
       "        vertical-align: top;\n",
       "    }\n",
       "\n",
       "    .dataframe thead th {\n",
       "        text-align: right;\n",
       "    }\n",
       "</style>\n",
       "<table border=\"1\" class=\"dataframe\">\n",
       "  <thead>\n",
       "    <tr style=\"text-align: right;\">\n",
       "      <th></th>\n",
       "      <th>Date</th>\n",
       "      <th>Status</th>\n",
       "      <th>Outer</th>\n",
       "      <th>Rating</th>\n",
       "      <th>Price</th>\n",
       "    </tr>\n",
       "  </thead>\n",
       "  <tbody>\n",
       "    <tr>\n",
       "      <th>0</th>\n",
       "      <td>2021-02-03</td>\n",
       "      <td>Upgrade</td>\n",
       "      <td>Argus</td>\n",
       "      <td>Hold → Buy</td>\n",
       "      <td></td>\n",
       "    </tr>\n",
       "    <tr>\n",
       "      <th>1</th>\n",
       "      <td>2021-01-27</td>\n",
       "      <td>Upgrade</td>\n",
       "      <td>JP Morgan</td>\n",
       "      <td>Neutral → Overweight</td>\n",
       "      <td>$205</td>\n",
       "    </tr>\n",
       "    <tr>\n",
       "      <th>2</th>\n",
       "      <td>2021-01-07</td>\n",
       "      <td>Downgrade</td>\n",
       "      <td>BofA Securities</td>\n",
       "      <td>Neutral → Underperform</td>\n",
       "      <td>$170</td>\n",
       "    </tr>\n",
       "    <tr>\n",
       "      <th>3</th>\n",
       "      <td>2020-10-07</td>\n",
       "      <td>Upgrade</td>\n",
       "      <td>Gordon Haskett</td>\n",
       "      <td>Underperform → Hold</td>\n",
       "      <td>$170</td>\n",
       "    </tr>\n",
       "    <tr>\n",
       "      <th>4</th>\n",
       "      <td>2020-03-30</td>\n",
       "      <td>Downgrade</td>\n",
       "      <td>Gordon Haskett</td>\n",
       "      <td>Hold → Underperform</td>\n",
       "      <td></td>\n",
       "    </tr>\n",
       "  </tbody>\n",
       "</table>\n",
       "</div>"
      ],
      "text/plain": [
       "        Date     Status            Outer                  Rating Price\n",
       "0 2021-02-03    Upgrade            Argus              Hold → Buy      \n",
       "1 2021-01-27    Upgrade        JP Morgan    Neutral → Overweight  $205\n",
       "2 2021-01-07  Downgrade  BofA Securities  Neutral → Underperform  $170\n",
       "3 2020-10-07    Upgrade   Gordon Haskett     Underperform → Hold  $170\n",
       "4 2020-03-30  Downgrade   Gordon Haskett     Hold → Underperform      "
      ]
     },
     "execution_count": 9,
     "metadata": {},
     "output_type": "execute_result"
    }
   ],
   "source": [
    "outer_ratings_df = stock.TickerOuterRatings()\n",
    "outer_ratings_df.head()"
   ]
  },
  {
   "cell_type": "code",
   "execution_count": 8,
   "metadata": {},
   "outputs": [
    {
     "data": {
      "text/html": [
       "<div>\n",
       "<style scoped>\n",
       "    .dataframe tbody tr th:only-of-type {\n",
       "        vertical-align: middle;\n",
       "    }\n",
       "\n",
       "    .dataframe tbody tr th {\n",
       "        vertical-align: top;\n",
       "    }\n",
       "\n",
       "    .dataframe thead th {\n",
       "        text-align: right;\n",
       "    }\n",
       "</style>\n",
       "<table border=\"1\" class=\"dataframe\">\n",
       "  <thead>\n",
       "    <tr style=\"text-align: right;\">\n",
       "      <th></th>\n",
       "      <th>Insider Trading</th>\n",
       "      <th>Relationship</th>\n",
       "      <th>Date</th>\n",
       "      <th>Transaction</th>\n",
       "      <th>Cost</th>\n",
       "      <th>#Shares</th>\n",
       "      <th>Value ($)</th>\n",
       "      <th>#Shares Total</th>\n",
       "      <th>SEC Form 4</th>\n",
       "      <th>Insider_id</th>\n",
       "    </tr>\n",
       "  </thead>\n",
       "  <tbody>\n",
       "    <tr>\n",
       "      <th>0</th>\n",
       "      <td>Rutherford Denise R</td>\n",
       "      <td>Senior Vice President</td>\n",
       "      <td>Feb 17</td>\n",
       "      <td>Sale</td>\n",
       "      <td>177.15</td>\n",
       "      <td>50.0</td>\n",
       "      <td>8857.0</td>\n",
       "      <td>0.0</td>\n",
       "      <td>Feb 18 09:54 AM</td>\n",
       "      <td>1771999</td>\n",
       "    </tr>\n",
       "    <tr>\n",
       "      <th>1</th>\n",
       "      <td>Reinseth Theresa E</td>\n",
       "      <td>Vice President/CAO</td>\n",
       "      <td>Feb 05</td>\n",
       "      <td>Option Exercise</td>\n",
       "      <td>179.01</td>\n",
       "      <td>289.0</td>\n",
       "      <td>51734.0</td>\n",
       "      <td>1508.0</td>\n",
       "      <td>Feb 08 12:27 PM</td>\n",
       "      <td>1772245</td>\n",
       "    </tr>\n",
       "    <tr>\n",
       "      <th>2</th>\n",
       "      <td>Lakkundi Veena M</td>\n",
       "      <td>Senior Vice President</td>\n",
       "      <td>Feb 04</td>\n",
       "      <td>Option Exercise</td>\n",
       "      <td>177.10</td>\n",
       "      <td>178.0</td>\n",
       "      <td>31524.0</td>\n",
       "      <td>1233.0</td>\n",
       "      <td>Feb 08 12:22 PM</td>\n",
       "      <td>1820707</td>\n",
       "    </tr>\n",
       "    <tr>\n",
       "      <th>3</th>\n",
       "      <td>Vale Michael G.</td>\n",
       "      <td>Executive Vice President</td>\n",
       "      <td>Jan 29</td>\n",
       "      <td>Option Exercise</td>\n",
       "      <td>87.89</td>\n",
       "      <td>30875.0</td>\n",
       "      <td>2713604.0</td>\n",
       "      <td>79155.0</td>\n",
       "      <td>Feb 01 01:30 PM</td>\n",
       "      <td>1527527</td>\n",
       "    </tr>\n",
       "    <tr>\n",
       "      <th>4</th>\n",
       "      <td>Vale Michael G.</td>\n",
       "      <td>Executive Vice President</td>\n",
       "      <td>Jan 29</td>\n",
       "      <td>Sale</td>\n",
       "      <td>175.53</td>\n",
       "      <td>30875.0</td>\n",
       "      <td>5419520.0</td>\n",
       "      <td>48280.0</td>\n",
       "      <td>Feb 01 01:30 PM</td>\n",
       "      <td>1527527</td>\n",
       "    </tr>\n",
       "  </tbody>\n",
       "</table>\n",
       "</div>"
      ],
      "text/plain": [
       "       Insider Trading              Relationship    Date      Transaction  \\\n",
       "0  Rutherford Denise R     Senior Vice President  Feb 17             Sale   \n",
       "1   Reinseth Theresa E        Vice President/CAO  Feb 05  Option Exercise   \n",
       "2     Lakkundi Veena M     Senior Vice President  Feb 04  Option Exercise   \n",
       "3      Vale Michael G.  Executive Vice President  Jan 29  Option Exercise   \n",
       "4      Vale Michael G.  Executive Vice President  Jan 29             Sale   \n",
       "\n",
       "     Cost  #Shares  Value ($)  #Shares Total       SEC Form 4 Insider_id  \n",
       "0  177.15     50.0     8857.0            0.0  Feb 18 09:54 AM    1771999  \n",
       "1  179.01    289.0    51734.0         1508.0  Feb 08 12:27 PM    1772245  \n",
       "2  177.10    178.0    31524.0         1233.0  Feb 08 12:22 PM    1820707  \n",
       "3   87.89  30875.0  2713604.0        79155.0  Feb 01 01:30 PM    1527527  \n",
       "4  175.53  30875.0  5419520.0        48280.0  Feb 01 01:30 PM    1527527  "
      ]
     },
     "execution_count": 8,
     "metadata": {},
     "output_type": "execute_result"
    }
   ],
   "source": [
    "inside_trader_df = stock.TickerInsideTrader()\n",
    "inside_trader_df.head()"
   ]
  },
  {
   "cell_type": "code",
   "execution_count": null,
   "metadata": {},
   "outputs": [],
   "source": []
  }
 ],
 "metadata": {
  "kernelspec": {
   "display_name": "Python 3",
   "language": "python",
   "name": "python3"
  },
  "language_info": {
   "codemirror_mode": {
    "name": "ipython",
    "version": 3
   },
   "file_extension": ".py",
   "mimetype": "text/x-python",
   "name": "python",
   "nbconvert_exporter": "python",
   "pygments_lexer": "ipython3",
   "version": "3.7.9"
  }
 },
 "nbformat": 4,
 "nbformat_minor": 4
}
