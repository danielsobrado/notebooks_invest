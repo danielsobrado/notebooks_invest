{
 "cells": [
  {
   "cell_type": "markdown",
   "metadata": {},
   "source": [
    "#### Datasource: https://stooq.com/db/h/"
   ]
  },
  {
   "cell_type": "code",
   "execution_count": 6,
   "metadata": {},
   "outputs": [],
   "source": [
    "import os\n",
    "import numpy as np\n",
    "import pandas as pd\n",
    "import yfinance as yf\n",
    "import matplotlib.pyplot as plt\n",
    "import mplfinance as mpf\n",
    "from datetime import datetime\n",
    "\n",
    "%matplotlib inline"
   ]
  },
  {
   "cell_type": "code",
   "execution_count": 12,
   "metadata": {},
   "outputs": [
    {
     "name": "stdout",
     "output_type": "stream",
     "text": [
      "./data/daily/de/xetra stocks/1/bayn.csv\n"
     ]
    }
   ],
   "source": [
    "PATH = r'./data/daily/'\n",
    "COUNTRY = r'de'\n",
    "MARKET = r'xetra stocks'\n",
    "TICKER = 'bayn'\n",
    "FILE_CSV = PATH+COUNTRY+\"/\"+MARKET+\"/1/\"+TICKER+\".csv\"\n",
    "\n",
    "# APPLE_FILE_CSV = r'../data/stooq/data/daily/us/nasdaq stocks/1/aapl.csv'\n",
    "# APPLE_FILE_CSV = r'../data/stooq/data/daily/de/xetra stocks/1/bayn.csv'\n",
    "print(FILE_CSV)\n",
    "# APPLE_FILE = r'./data/daily/us/nasdaq stocks/1/aapl.us.txt'\n",
    "# APPLE_FILE = r'./data/daily/de/xetra stocks/1/bayn.de.txt'\n",
    "FILE = r'./data/daily/us/nyse etfs/voo.us.txt'\n",
    "# APPLE_FILE_CSV = r'./data/daily/us/nasdaq stocks/1/aapl.csv'\n",
    "# APPLE_FILE_CSV = r'./data/daily/de/xetra stocks/1/bayn.csv'\n",
    "FILE_CSV = r'./data/daily/us/nyse etfs/voo.csv'\n",
    "dateparse = lambda x: datetime.strptime(x, '%Y%m%d')"
   ]
  },
  {
   "cell_type": "code",
   "execution_count": 47,
   "metadata": {},
   "outputs": [
    {
     "name": "stdout",
     "output_type": "stream",
     "text": [
      "tikcer: bayn\n",
      "File exists: ./data/daily/de/xetra stocks/1/bayn.de.txt\n",
      "tikcer: bas\n",
      "File exists: ./data/daily/de/xetra stocks/1/bas.de.txt\n"
     ]
    },
    {
     "data": {
      "text/plain": [
       "[           Date       Open       High        Low      Close   Volume  OpenInt\n",
       " 0    2009-09-23  31.323012  31.626543  30.867717  31.092065  2744656        0\n",
       " 1    2009-09-24  30.907308  31.349406  30.122088  30.471808  4208530        0\n",
       " 2    2009-09-25  30.682959  30.682959  29.917535  30.498202  3035204        0\n",
       " 3    2009-09-28  30.287050  31.969664  30.023111  31.969664  5466884        0\n",
       " 4    2009-09-29  31.936672  32.490944  31.428588  32.227005  4677100        0\n",
       " ...         ...        ...        ...        ...        ...      ...      ...\n",
       " 2917 2021-03-30  53.510000  53.810000  53.070000  53.750000  2370698        0\n",
       " 2918 2021-03-31  53.760000  54.210000  53.500000  53.960000  2977151        0\n",
       " 2919 2021-04-01  53.970000  54.090000  53.220000  53.230000  3641900        0\n",
       " 2920 2021-04-06  53.400000  54.260000  53.280000  53.780000  3632619        0\n",
       " 2921 2021-04-07  53.780000  54.100000  53.510000  53.510000  2561319        0\n",
       " \n",
       " [2922 rows x 7 columns],\n",
       "            Date       Open       High        Low      Close   Volume  OpenInt\n",
       " 0    2007-01-02  19.405648  19.515196  19.327400  19.515196  2930512        0\n",
       " 1    2007-01-03  19.525629  19.525629  19.413473  19.423906  5449020        0\n",
       " 2    2007-01-04  19.298709  19.371741  19.129170  19.212635  6970632        0\n",
       " 3    2007-01-05  19.251759  19.371741  19.040488  19.079613  6233238        0\n",
       " 4    2007-01-08  19.110912  19.134387  18.938765  19.027447  5094028        0\n",
       " ...         ...        ...        ...        ...        ...      ...      ...\n",
       " 3603 2021-03-30  70.180000  72.170000  70.000000  71.880000  2717233        0\n",
       " 3604 2021-03-31  71.820000  72.360000  70.720000  70.840000  2746094        0\n",
       " 3605 2021-04-01  71.140000  72.000000  70.550000  71.050000  1949783        0\n",
       " 3606 2021-04-06  72.000000  72.780000  71.910000  72.240000  2798324        0\n",
       " 3607 2021-04-07  72.340000  72.880000  72.050000  72.350000  2121302        0\n",
       " \n",
       " [3608 rows x 7 columns]]"
      ]
     },
     "execution_count": 47,
     "metadata": {},
     "output_type": "execute_result"
    }
   ],
   "source": [
    "def convert_to_csv(path, country, folder, *tickers):\n",
    "    dateparse = lambda x: datetime.strptime(x, '%Y%m%d')\n",
    "    \n",
    "    for ticker in tickers:\n",
    "        print(\"tikcer: \"+ticker)\n",
    "        filename = ticker+\".\"+country+\".txt\"\n",
    "        filename_csv = ticker+\".csv\"\n",
    "        full_path = os.path.join(path+country,folder)\n",
    "    \n",
    "        for root, dirs, files in os.walk(full_path):\n",
    "            found_path = os.path.join(root, filename)\n",
    "            if os.path.isfile(found_path):\n",
    "                print(\"File exists: \"+found_path)\n",
    "                file = pd.read_csv(os.path.join(root, filename), usecols=[\"<DATE>\",\"<OPEN>\",\"<HIGH>\",\"<LOW>\",\"<CLOSE>\",\"<VOL>\",\"<OPENINT>\"],parse_dates=['<DATE>'], date_parser=dateparse)\n",
    "                file.columns = ['Date', 'Open', 'High', 'Low', 'Close', 'Volume', 'OpenInt']\n",
    "                full_filename_csv = os.path.join(root, filename_csv)\n",
    "                file.to_csv(full_filename_csv, index = False, date_format='%Y-%m-%d %H:%M:%S')\n",
    "                yield file\n",
    "\n",
    "# ticker_dfs = [df for df in convert_to_csv(PATH, \"de\", 'xetra stocks', 'bayn')]\n",
    "ticker_dfs = [df for df in convert_to_csv(PATH, \"de\", 'xetra stocks', 'bayn', 'bas')]\n",
    "ticker_dfs"
   ]
  },
  {
   "cell_type": "code",
   "execution_count": 8,
   "metadata": {},
   "outputs": [],
   "source": [
    "apple = pd.read_csv(APPLE_FILE, usecols=[\"<DATE>\",\"<OPEN>\",\"<HIGH>\",\"<LOW>\",\"<CLOSE>\",\"<VOL>\",\"<OPENINT>\"],parse_dates=['<DATE>'], date_parser=dateparse)\n",
    "apple.columns = ['Date', 'Open', 'High', 'Low', 'Close', 'Volume', 'OpenInt']\n",
    "apple.head()\n",
    "apple.to_csv(APPLE_FILE_CSV, index = False, date_format='%Y-%m-%d %H:%M:%S')"
   ]
  },
  {
   "cell_type": "code",
   "execution_count": 9,
   "metadata": {},
   "outputs": [
    {
     "data": {
      "text/html": [
       "<div>\n",
       "<style scoped>\n",
       "    .dataframe tbody tr th:only-of-type {\n",
       "        vertical-align: middle;\n",
       "    }\n",
       "\n",
       "    .dataframe tbody tr th {\n",
       "        vertical-align: top;\n",
       "    }\n",
       "\n",
       "    .dataframe thead th {\n",
       "        text-align: right;\n",
       "    }\n",
       "</style>\n",
       "<table border=\"1\" class=\"dataframe\">\n",
       "  <thead>\n",
       "    <tr style=\"text-align: right;\">\n",
       "      <th></th>\n",
       "      <th>Date</th>\n",
       "      <th>Open</th>\n",
       "      <th>High</th>\n",
       "      <th>Low</th>\n",
       "      <th>Close</th>\n",
       "      <th>Volume</th>\n",
       "      <th>OpenInt</th>\n",
       "    </tr>\n",
       "  </thead>\n",
       "  <tbody>\n",
       "    <tr>\n",
       "      <th>0</th>\n",
       "      <td>2010-09-14 00:00:00</td>\n",
       "      <td>84.386</td>\n",
       "      <td>84.910</td>\n",
       "      <td>84.007</td>\n",
       "      <td>84.549</td>\n",
       "      <td>72412</td>\n",
       "      <td>0</td>\n",
       "    </tr>\n",
       "    <tr>\n",
       "      <th>1</th>\n",
       "      <td>2010-09-15 00:00:00</td>\n",
       "      <td>84.203</td>\n",
       "      <td>84.827</td>\n",
       "      <td>84.022</td>\n",
       "      <td>84.763</td>\n",
       "      <td>11315</td>\n",
       "      <td>0</td>\n",
       "    </tr>\n",
       "    <tr>\n",
       "      <th>2</th>\n",
       "      <td>2010-09-16 00:00:00</td>\n",
       "      <td>84.533</td>\n",
       "      <td>84.781</td>\n",
       "      <td>84.269</td>\n",
       "      <td>84.729</td>\n",
       "      <td>72610</td>\n",
       "      <td>0</td>\n",
       "    </tr>\n",
       "    <tr>\n",
       "      <th>3</th>\n",
       "      <td>2010-09-17 00:00:00</td>\n",
       "      <td>85.237</td>\n",
       "      <td>85.237</td>\n",
       "      <td>84.533</td>\n",
       "      <td>84.812</td>\n",
       "      <td>60465</td>\n",
       "      <td>0</td>\n",
       "    </tr>\n",
       "    <tr>\n",
       "      <th>4</th>\n",
       "      <td>2010-09-20 00:00:00</td>\n",
       "      <td>85.125</td>\n",
       "      <td>86.191</td>\n",
       "      <td>84.894</td>\n",
       "      <td>86.191</td>\n",
       "      <td>23164</td>\n",
       "      <td>0</td>\n",
       "    </tr>\n",
       "  </tbody>\n",
       "</table>\n",
       "</div>"
      ],
      "text/plain": [
       "                  Date    Open    High     Low   Close  Volume  OpenInt\n",
       "0  2010-09-14 00:00:00  84.386  84.910  84.007  84.549   72412        0\n",
       "1  2010-09-15 00:00:00  84.203  84.827  84.022  84.763   11315        0\n",
       "2  2010-09-16 00:00:00  84.533  84.781  84.269  84.729   72610        0\n",
       "3  2010-09-17 00:00:00  85.237  85.237  84.533  84.812   60465        0\n",
       "4  2010-09-20 00:00:00  85.125  86.191  84.894  86.191   23164        0"
      ]
     },
     "execution_count": 9,
     "metadata": {},
     "output_type": "execute_result"
    }
   ],
   "source": [
    "apple_csv = pd.read_csv(APPLE_FILE_CSV)\n",
    "apple_csv.head()"
   ]
  },
  {
   "cell_type": "code",
   "execution_count": null,
   "metadata": {},
   "outputs": [],
   "source": [
    "apple = pd.read_csv(APPLE_FILE,index_col='<DATE>',parse_dates=['<DATE>'], date_parser=dateparse)\n",
    "apple.columns = ['Ticker', 'PER', 'Time', 'Open', 'High', 'Low', 'Close', 'Volume', 'OpenInt']\n",
    "apple.head()"
   ]
  },
  {
   "cell_type": "code",
   "execution_count": null,
   "metadata": {},
   "outputs": [],
   "source": [
    "apple['EMA12'] = apple['Close'].ewm(span=12).mean()\n",
    "apple['EMA26'] = apple['Close'].ewm(span=26).mean()\n",
    "apple['MACD'] = apple['EMA26'] - apple['EMA12']"
   ]
  },
  {
   "cell_type": "code",
   "execution_count": null,
   "metadata": {},
   "outputs": [],
   "source": [
    "apple['MACDSignalLine'] = apple['MACD'].ewm(span=9).mean()\n",
    "apple['Histogram'] = apple['MACD'] - apple['MACDSignalLine']"
   ]
  },
  {
   "cell_type": "code",
   "execution_count": null,
   "metadata": {},
   "outputs": [],
   "source": [
    "apds = [mpf.make_addplot(apple['EMA12'][-100:], color='yellow'),\n",
    "        mpf.make_addplot(apple['EMA26'][-100:], color='c'),\n",
    "        mpf.make_addplot(apple['MACD'][-100:], panel=1, secondary_y=True, color='orange'),\n",
    "        mpf.make_addplot(apple['MACDSignalLine'][-100:], panel=1, secondary_y=True, color='blue'),\n",
    "        mpf.make_addplot(apple['Histogram'][-100:], panel=1, type='bar', color='purple', secondary_y=False)]\n"
   ]
  },
  {
   "cell_type": "code",
   "execution_count": null,
   "metadata": {},
   "outputs": [],
   "source": [
    "mc = mpf.make_marketcolors(up='#00ff00',down='#ff2e2e',inherit=True)\n",
    "s  = mpf.make_mpf_style(base_mpf_style='nightclouds',marketcolors=mc)\n",
    "\n",
    "fig, axes = mpf.plot(apple[-100:], \n",
    "                     volume_panel = 2,\n",
    "                     figratio=(1.5,1),\n",
    "                     figscale=1, \n",
    "                     type='candle', \n",
    "                     style=s,\n",
    "                     addplot=apds,\n",
    "                     returnfig=True)\n",
    "\n",
    "labels = ['EMA12', 'EMA26']\n",
    "\n",
    "axes[0].legend(labels, loc='upper left')\n",
    "axes[2].legend(['MACD - Signal'], fontsize=6, loc='upper right')\n",
    "axes[3].legend(['MACD', 'Signal Line'], fontsize=6, loc='lower left')\n",
    "\n",
    "axes[0].set_title('Apple Chart')"
   ]
  },
  {
   "cell_type": "code",
   "execution_count": null,
   "metadata": {},
   "outputs": [],
   "source": [
    "def RSI(series, period):\n",
    "    delta = series.diff().dropna()\n",
    "    u = delta * 0\n",
    "    d = u.copy()\n",
    "    u[delta > 0] = delta[delta > 0]\n",
    "    d[delta < 0] = -delta[delta < 0]\n",
    "    u[u.index[period-1]] = np.mean( u[:period] ) \n",
    "    u = u.drop(u.index[:(period-1)])\n",
    "    d[d.index[period-1]] = np.mean( d[:period] ) \n",
    "    d = d.drop(d.index[:(period-1)])\n",
    "    rs = pd.DataFrame.ewm(u, com=period-1, adjust=False).mean() / \\\n",
    "         pd.DataFrame.ewm(d, com=period-1, adjust=False).mean()\n",
    "    return 100 - 100 / (1 + rs)"
   ]
  },
  {
   "cell_type": "code",
   "execution_count": null,
   "metadata": {},
   "outputs": [],
   "source": [
    "apple['RSI'] = RSI(apple['Close'], 14)"
   ]
  },
  {
   "cell_type": "code",
   "execution_count": null,
   "metadata": {},
   "outputs": [],
   "source": [
    "apple.tail(10)"
   ]
  },
  {
   "cell_type": "code",
   "execution_count": null,
   "metadata": {},
   "outputs": [],
   "source": [
    "apds2 = [mpf.make_addplot(apple['EMA12'][-100:], color='yellow'),\n",
    "        mpf.make_addplot(apple['EMA26'][-100:], color='c'),\n",
    "        mpf.make_addplot(apple['RSI'][-100:], panel=2, secondary_y=True, color='green'),\n",
    "        mpf.make_addplot(apple['MACD'][-100:], panel=1, secondary_y=True, color='orange'),\n",
    "        mpf.make_addplot(apple['MACDSignalLine'][-100:], panel=1, secondary_y=True, color='blue'),\n",
    "        mpf.make_addplot(apple['Histogram'][-100:], panel=1, type='bar', color='purple', secondary_y=False)]\n"
   ]
  },
  {
   "cell_type": "code",
   "execution_count": null,
   "metadata": {},
   "outputs": [],
   "source": [
    "mc = mpf.make_marketcolors(up='#00ff00',down='#ff2e2e',inherit=True)\n",
    "s  = mpf.make_mpf_style(base_mpf_style='nightclouds',marketcolors=mc)\n",
    "\n",
    "fig, axes = mpf.plot(apple[-100:], \n",
    "                     volume_panel = 3,\n",
    "                     figratio=(1.5,1),\n",
    "                     figscale=1, \n",
    "                     type='candle', \n",
    "                     style=s,\n",
    "                     addplot=apds2,\n",
    "                     returnfig=True)\n",
    "\n",
    "labels = ['EMA12', 'EMA26']\n",
    "\n",
    "axes[0].legend(labels, loc='upper left')\n",
    "axes[3].legend(['RSI'], fontsize=6, loc='lower right')\n",
    "axes[2].legend(['MACD'], fontsize=6, loc='upper right')\n",
    "\n",
    "axes[0].set_title('Apple Chart')"
   ]
  }
 ],
 "metadata": {
  "kernelspec": {
   "display_name": "Python 3",
   "language": "python",
   "name": "python3"
  },
  "language_info": {
   "codemirror_mode": {
    "name": "ipython",
    "version": 3
   },
   "file_extension": ".py",
   "mimetype": "text/x-python",
   "name": "python",
   "nbconvert_exporter": "python",
   "pygments_lexer": "ipython3",
   "version": "3.8.5"
  }
 },
 "nbformat": 4,
 "nbformat_minor": 4
}
