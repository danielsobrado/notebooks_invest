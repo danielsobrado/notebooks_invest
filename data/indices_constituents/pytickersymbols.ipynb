{
 "cells": [
  {
   "cell_type": "markdown",
   "metadata": {},
   "source": [
    "pytickersymbols provides access to google and yahoo ticker symbols for all stocks of the following indices:\n",
    "\n",
    "Link: https://github.com/portfolioplus/pytickersymbols\n",
    "\n",
    "[x] AEX\n",
    "[x] BEL 20\n",
    "[x] CAC 40\n",
    "[x] DAX\n",
    "[x] DOW JONES\n",
    "[x] FTSE 100\n",
    "[x] IBEX 35\n",
    "[x] MDAX\n",
    "[x] NASDAQ 100\n",
    "[x] OMX Helsinki 15\n",
    "[x] OMX Helsinki 25\n",
    "[x] OMX Stockholm 30\n",
    "[x] S&P 100\n",
    "[x] S&P 500\n",
    "[x] SDAX\n",
    "[x] SMI\n",
    "[x] TECDAX\n",
    "[x] MOEX"
   ]
  },
  {
   "cell_type": "code",
   "execution_count": 4,
   "metadata": {},
   "outputs": [],
   "source": [
    "from pytickersymbols import PyTickerSymbols\n",
    "import json"
   ]
  },
  {
   "cell_type": "code",
   "execution_count": 3,
   "metadata": {},
   "outputs": [
    {
     "name": "stdout",
     "output_type": "stream",
     "text": [
      "[{'id': 326, 'name': '3M Company', 'symbol': 'MMM', 'country': 'United States', 'indices': ['DOW JONES', 'S&P 100', 'S&P 500'], 'industries': ['Industrials', 'Industrial Conglomerates'], 'symbols': [{'yahoo': 'MMM.F', 'google': 'FRA:MMM'}, {'yahoo': 'MMM', 'google': 'NYSE:MMM'}], 'metadata': {'founded': 1902, 'employees': 93516}}, {'id': 327, 'name': 'American Express Company', 'symbol': 'AXP', 'country': 'United States', 'indices': ['DOW JONES', 'S&P 100', 'S&P 500'], 'industries': ['Banking & Investment Services', 'Banking Services', 'Financials', 'Consumer Lending'], 'symbols': [{'yahoo': 'AEC1.F', 'google': 'FRA:AEC1'}, {'yahoo': 'AXP', 'google': 'NYSE:AXP'}], 'metadata': {'founded': 1850, 'employees': 59000}}, {'id': 328, 'name': 'Apple Inc.', 'symbol': 'AAPL', 'country': 'United States', 'indices': ['DOW JONES', 'NASDAQ 100', 'S&P 100', 'S&P 500'], 'industries': ['Computers, Phones & Household Electronics', 'Technology', 'Technology Equipment', 'Phones & Handheld Devices'], 'symbols': [{'yahoo': 'APC.F', 'google': 'FRA:APC'}, {'yahoo': 'AAPL', 'google': 'NASDAQ:AAPL'}], 'metadata': {'founded': 'unknown', 'employees': 137000}}, {'id': 329, 'name': 'The Boeing Company', 'symbol': 'BA', 'country': 'United States', 'indices': ['DOW JONES', 'S&P 100', 'S&P 500'], 'industries': ['Industrial Goods', 'Industrials', 'Aerospace & Defense'], 'symbols': [{'yahoo': 'BCO.F', 'google': 'FRA:BCO'}, {'yahoo': 'BA', 'google': 'NYSE:BA'}], 'metadata': {'founded': 1916, 'employees': 161133}}, {'id': 330, 'name': 'Caterpillar Inc.', 'symbol': 'CAT', 'country': 'United States', 'indices': ['DOW JONES', 'S&P 100', 'S&P 500'], 'industries': ['Industrial Goods', 'Industrials', 'Heavy Machinery & Vehicles', 'Machinery, Equipment & Components'], 'symbols': [{'yahoo': 'CAT1.F', 'google': 'FRA:CAT1'}, {'yahoo': 'CAT', 'google': 'NYSE:CAT'}], 'metadata': {'founded': 1925, 'employees': 101500}}, {'id': 331, 'name': 'Chevron Corporation', 'symbol': 'CVX', 'country': 'United States', 'indices': ['DOW JONES', 'S&P 100', 'S&P 500'], 'industries': ['Energy', 'Fossil Fuels', 'Oil & Gas'], 'symbols': [{'yahoo': 'CHV.F', 'google': 'FRA:CHV'}, {'yahoo': 'CVX', 'google': 'NYSE:CVX'}], 'metadata': {'founded': 1879, 'employees': 51900}}, {'id': 332, 'name': 'Cisco Systems Inc.', 'symbol': 'CSCO', 'country': 'United States', 'indices': ['DOW JONES', 'NASDAQ 100', 'S&P 100', 'S&P 500'], 'industries': ['Technology', 'Technology Equipment', 'Communications & Networking'], 'symbols': [{'yahoo': 'CIS.F', 'google': 'FRA:CIS'}, {'yahoo': 'CSCO', 'google': 'NASDAQ:CSCO'}], 'metadata': {'founded': 'unknown', 'employees': 75900}}, {'id': 333, 'name': 'The Coca-Cola Company', 'symbol': 'KO', 'country': 'United States', 'indices': ['DOW JONES', 'S&P 100', 'S&P 500'], 'industries': ['Food & Beverages', 'Consumer Non-Cyclicals', 'Beverages', 'Non-Alcoholic Beverages'], 'symbols': [{'yahoo': 'CCC3.F', 'google': 'FRA:CCC3'}, {'yahoo': 'KO', 'google': 'OTCMKTS:KO'}], 'metadata': {'founded': 1892, 'employees': 62600}}, {'id': 334, 'name': 'DowDuPont Inc.', 'symbol': 'DOW', 'country': 'United States', 'indices': ['DOW JONES', 'S&P 100'], 'industries': ['Commodity Chemicals', 'Basic Materials', 'Chemicals'], 'symbols': [{'yahoo': '6D81.F', 'google': 'FRA:6D81'}, {'yahoo': 'DD', 'google': 'NYSE:DD'}], 'metadata': {'founded': 'unknown', 'employees': 98000}}, {'id': 335, 'name': 'Exxon Mobil Corporation', 'symbol': 'XOM', 'country': 'United States', 'indices': ['DOW JONES', 'S&P 100', 'S&P 500'], 'industries': ['Energy', 'Fossil Fuels', 'Oil & Gas'], 'symbols': [{'yahoo': 'XONA.F', 'google': 'FRA:XONA'}, {'yahoo': 'XOM', 'google': 'NYSE:XOM'}], 'metadata': {'founded': 'unknown', 'employees': 71000}}, {'id': 336, 'name': 'The Goldman Sachs Group Inc.', 'symbol': 'GS', 'country': 'United States', 'indices': ['DOW JONES', 'S&P 100', 'S&P 500'], 'industries': ['Banking & Investment Services', 'Investment Banking & Investment Services', 'Financials', 'Investment Banking & Brokerage Services'], 'symbols': [{'yahoo': 'GOS.F', 'google': 'FRA:GOS'}, {'yahoo': 'GS-PK', 'google': 'NYSE:GS'}], 'metadata': {'founded': 1869, 'employees': 38300}}, {'id': 337, 'name': 'The Home Depot Inc.', 'symbol': 'HD', 'country': 'United States', 'indices': ['DOW JONES', 'S&P 100', 'S&P 500'], 'industries': ['Retailers', 'Specialty Retailers', 'Home Improvement Products & Services Retailers', 'Consumer Cyclicals'], 'symbols': [{'yahoo': 'HDI.F', 'google': 'FRA:HDI'}, {'yahoo': 'HD', 'google': 'NYSE:HD'}], 'metadata': {'founded': 1978, 'employees': 400000}}, {'id': 338, 'name': 'International Business Machines Corporation', 'symbol': 'IBM', 'country': 'United States', 'indices': ['DOW JONES', 'S&P 100', 'S&P 500'], 'industries': ['Technology', 'Software & IT Services', 'IT Services & Consulting'], 'symbols': [{'yahoo': 'IBM.F', 'google': 'FRA:IBM'}, {'yahoo': 'IBM', 'google': 'NYSE:IBM'}], 'metadata': {'founded': 1911, 'employees': 352600}}, {'id': 339, 'name': 'Intel Corporation', 'symbol': 'INTC', 'country': 'United States', 'indices': ['DOW JONES', 'NASDAQ 100', 'S&P 100', 'S&P 500'], 'industries': ['Technology', 'Technology Equipment', 'Semiconductors & Semiconductor Equipment', 'Semiconductors'], 'symbols': [{'yahoo': 'INL.F', 'google': 'FRA:INL'}, {'yahoo': 'INTC', 'google': 'NASDAQ:INTC'}], 'metadata': {'founded': 'unknown', 'employees': 110200}}, {'id': 340, 'name': 'Johnson & Johnson', 'symbol': 'JNJ', 'country': 'United States', 'indices': ['DOW JONES', 'S&P 100', 'S&P 500'], 'industries': ['Pharmaceuticals', 'Pharmaceuticals & Medical Research', 'Healthcare'], 'symbols': [{'yahoo': 'JNJ.F', 'google': 'FRA:JNJ'}, {'yahoo': 'JNJ', 'google': 'NYSE:JNJ'}], 'metadata': {'founded': 'unknown', 'employees': 132200}}, {'id': 341, 'name': 'JPMorgan Chase & Co.', 'symbol': 'JPM', 'country': 'United States', 'indices': ['DOW JONES', 'S&P 100', 'S&P 500'], 'industries': ['Banking & Investment Services', 'Banking Services', 'Financials', 'Banks'], 'symbols': [{'yahoo': 'CMC.F', 'google': 'FRA:CMC'}, {'yahoo': 'JPM', 'google': 'NYSE:JPM'}], 'metadata': {'founded': 'unknown', 'employees': 256981}}, {'id': 342, 'name': \"McDonald's Corporation\", 'symbol': 'MCD', 'country': 'United States', 'indices': ['DOW JONES', 'S&P 100', 'S&P 500'], 'industries': ['Hotels & Entertainment Services', 'Restaurants & Bars', 'Cyclical Consumer Services', 'Consumer Cyclicals'], 'symbols': [{'yahoo': 'MDO.F', 'google': 'FRA:MDO'}, {'yahoo': 'MCD', 'google': 'NYSE:MCD'}], 'metadata': {'founded': 1940, 'employees': 210000}}, {'id': 343, 'name': 'Merck & Co. Inc.', 'symbol': 'MRK', 'country': 'United States', 'indices': ['DOW JONES', 'S&P 100', 'S&P 500'], 'industries': ['Pharmaceuticals', 'Pharmaceuticals & Medical Research', 'Healthcare'], 'symbols': [{'yahoo': '6MK.F', 'google': 'FRA:6MK'}, {'yahoo': 'MRK', 'google': 'NYSE:MRK'}], 'metadata': {'founded': 1917, 'employees': 69000}}, {'id': 344, 'name': 'Microsoft Corporation', 'symbol': 'MSFT', 'country': 'United States', 'indices': ['DOW JONES', 'NASDAQ 100', 'S&P 100', 'S&P 500'], 'industries': ['Software', 'Technology', 'Software & IT Services'], 'symbols': [{'yahoo': 'MSF.F', 'google': 'FRA:MSF'}, {'yahoo': 'MSFT', 'google': 'NASDAQ:MSFT'}], 'metadata': {'founded': 'unknown', 'employees': 151163}}, {'id': 345, 'name': 'NIKE Inc.', 'symbol': 'NKE', 'country': 'United States', 'indices': ['DOW JONES', 'S&P 100', 'S&P 500'], 'industries': ['Cyclical Consumer Products', 'Footwear', 'Textiles & Apparel', 'Consumer Cyclicals'], 'symbols': [{'yahoo': 'NKE.F', 'google': 'FRA:NKE'}, {'yahoo': 'NKE', 'google': 'NYSE:NKE'}], 'metadata': {'founded': 1964, 'employees': 73100}}, {'id': 346, 'name': 'Pfizer Inc.', 'symbol': 'PFE', 'country': 'United States', 'indices': ['DOW JONES', 'S&P 100', 'S&P 500'], 'industries': ['Pharmaceuticals', 'Pharmaceuticals & Medical Research', 'Healthcare'], 'symbols': [{'yahoo': 'PFE.F', 'google': 'FRA:PFE'}, {'yahoo': 'PFE', 'google': 'NYSE:PFE'}], 'metadata': {'founded': 1849, 'employees': 88300}}, {'id': 347, 'name': 'The Procter & Gamble Company', 'symbol': 'PG', 'country': 'United States', 'indices': ['DOW JONES', 'S&P 100', 'S&P 500'], 'industries': ['Consumer Non-Cyclicals', 'Personal Products', 'Personal & Household Products & Services'], 'symbols': [{'yahoo': 'PRG.F', 'google': 'FRA:PRG'}, {'yahoo': 'PG', 'google': 'NYSE:PG'}], 'metadata': {'founded': 'unknown', 'employees': 97000}}, {'id': 348, 'name': 'The Travelers Companies Inc.', 'symbol': 'TRV', 'country': 'United States', 'indices': ['DOW JONES', 'S&P 500'], 'industries': ['Insurance', 'Property & Casualty Insurance', 'Financials'], 'symbols': [{'yahoo': 'PA9.F', 'google': 'FRA:PA9'}, {'yahoo': 'TRV', 'google': 'NYSE:TRV'}], 'metadata': {'founded': 2004, 'employees': 30800}}, {'id': 349, 'name': 'United Technologies Corporation', 'symbol': 'UTX', 'country': 'United States', 'indices': ['DOW JONES', 'S&P 100', 'S&P 500'], 'industries': ['Industrial Goods', 'Industrials', 'Aerospace & Defense'], 'symbols': [{'yahoo': 'UTC1.F', 'google': 'FRA:UTC1'}, {'yahoo': 'UTX', 'google': 'NYSE:UTX'}], 'metadata': {'founded': 1975, 'employees': 240000}}, {'id': 350, 'name': 'UnitedHealth Group Inc.', 'symbol': 'UNH', 'country': 'United States', 'indices': ['DOW JONES', 'S&P 100', 'S&P 500'], 'industries': ['Managed Health care', 'Healthcare', 'Healthcare Providers & Services', 'Healthcare Services'], 'symbols': [{'yahoo': 'UNH.F', 'google': 'FRA:UNH'}, {'yahoo': 'UNH', 'google': 'NYSE:UNH'}], 'metadata': {'founded': 1977, 'employees': 320000}}, {'id': 351, 'name': 'Verizon Communications Inc.', 'symbol': 'VZ', 'country': 'United States', 'indices': ['DOW JONES', 'S&P 100', 'S&P 500'], 'industries': ['Telecommunications Services', 'Integrated Telecommunications Services'], 'symbols': [{'yahoo': 'BAC.F', 'google': 'FRA:BAC'}, {'yahoo': 'VZ', 'google': 'NYSE:VZ'}], 'metadata': {'founded': 'unknown', 'employees': 135400}}, {'id': 352, 'name': 'Visa Inc.', 'symbol': 'V', 'country': 'United States', 'indices': ['DOW JONES', 'S&P 100', 'S&P 500'], 'industries': ['Technology', 'Software & IT Services', 'Internet Services'], 'symbols': [{'yahoo': '3V64.F', 'google': 'FRA:3V64'}, {'yahoo': 'V', 'google': 'NYSE:V'}], 'metadata': {'founded': 1958, 'employees': 19500}}, {'id': 353, 'name': 'Walmart Inc.', 'symbol': 'WMT', 'country': 'United States', 'indices': ['DOW JONES', 'S&P 100', 'S&P 500'], 'industries': ['Consumer Non-Cyclicals', 'Food & Drug Retailing', 'Food Retail & Distribution'], 'symbols': [{'yahoo': 'WMT.F', 'google': 'FRA:WMT'}, {'yahoo': 'WMT', 'google': 'NYSE:WMT'}], 'metadata': {'founded': 1962, 'employees': 22}}, {'id': 354, 'name': 'Walgreens Boots Alliance Inc.', 'symbol': 'WBA', 'country': 'United States', 'indices': ['DOW JONES', 'NASDAQ 100', 'S&P 100', 'S&P 500'], 'industries': ['Consumer Non-Cyclicals', 'Food & Drug Retailing', 'Drug Retailers'], 'symbols': [{'yahoo': 'W8A.F', 'google': 'FRA:W8A'}, {'yahoo': 'WBA', 'google': 'NASDAQ:WBA'}], 'metadata': {'founded': 'unknown', 'employees': 440000}}, {'id': 355, 'name': 'The Walt Disney Company', 'symbol': 'DIS', 'country': 'United States', 'indices': ['DOW JONES', 'S&P 100', 'S&P 500'], 'industries': ['Media & Publishing', 'Cyclical Consumer Services', 'Broadcasting', 'Consumer Cyclicals'], 'symbols': [{'yahoo': 'WDP.F', 'google': 'FRA:WDP'}, {'yahoo': 'DIS', 'google': 'OTCMKTS:DIS'}], 'metadata': {'founded': 'unknown', 'employees': 223000}}]\n"
     ]
    }
   ],
   "source": [
    "stock_data = PyTickerSymbols()\n",
    "dow_stocks = stock_data.get_stocks_by_index('DOW JONES')\n",
    "\n",
    "print (json.dumps(list(dow_stocks), indent=2))"
   ]
  },
  {
   "cell_type": "code",
   "execution_count": null,
   "metadata": {},
   "outputs": [],
   "source": []
  }
 ],
 "metadata": {
  "kernelspec": {
   "display_name": "Python 3",
   "language": "python",
   "name": "python3"
  },
  "language_info": {
   "codemirror_mode": {
    "name": "ipython",
    "version": 3
   },
   "file_extension": ".py",
   "mimetype": "text/x-python",
   "name": "python",
   "nbconvert_exporter": "python",
   "pygments_lexer": "ipython3",
   "version": "3.7.9"
  }
 },
 "nbformat": 4,
 "nbformat_minor": 4
}
