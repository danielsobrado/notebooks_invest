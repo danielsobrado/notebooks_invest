{
 "cells": [
  {
   "cell_type": "code",
   "execution_count": 1,
   "id": "4b453a7f-67f7-4c04-89f1-713409e3551a",
   "metadata": {},
   "outputs": [
    {
     "name": "stdout",
     "output_type": "stream",
     "text": [
      "CSV file 'sp500_companies.csv' has been created.\n"
     ]
    }
   ],
   "source": [
    "import pandas as pd\n",
    "import requests\n",
    "import time\n",
    "\n",
    "def get_cik(ticker):\n",
    "    url = \"https://www.sec.gov/include/ticker.txt\"\n",
    "    response = requests.get(url)\n",
    "    content = response.text\n",
    "    \n",
    "    for line in content.splitlines():\n",
    "        parts = line.strip().split('\\t')\n",
    "        if len(parts) == 2:\n",
    "            t, c = parts\n",
    "            if t.upper() == ticker.upper():\n",
    "                return c.zfill(10)\n",
    "    \n",
    "    return None\n",
    "\n",
    "# Read S&P 500 components\n",
    "url = 'https://en.wikipedia.org/wiki/List_of_S%26P_500_companies'\n",
    "tables = pd.read_html(url)\n",
    "df = tables[0]\n",
    "\n",
    "# Rename columns\n",
    "df = df.rename(columns={\n",
    "    'Symbol': 'Ticker',\n",
    "    'Security': 'Company',\n",
    "    'GICS Sector': 'Sector',\n",
    "    'GICS Sub-Industry': 'Sub-Industry',\n",
    "    'Headquarters Location': 'Headquarters',\n",
    "    'Date added': 'Date_Added',\n",
    "    'Founded': 'Founded_Year'\n",
    "})\n",
    "\n",
    "# Add CIK column\n",
    "df['CIK'] = df['Ticker'].apply(lambda x: get_cik(x))\n",
    "\n",
    "# Reorder columns\n",
    "columns_order = ['Ticker', 'CIK', 'Company', 'Sector', 'Sub-Industry', 'Headquarters', 'Date_Added', 'Founded_Year']\n",
    "df = df[columns_order]\n",
    "\n",
    "# Save to CSV\n",
    "df.to_csv('data/sp500_companies.csv', index=False)\n",
    "\n",
    "print(\"CSV file 'sp500_companies.csv' has been created.\")"
   ]
  },
  {
   "cell_type": "code",
   "execution_count": null,
   "id": "edf61982-9d1a-4e12-9f21-17f07c678b45",
   "metadata": {},
   "outputs": [],
   "source": []
  },
  {
   "cell_type": "code",
   "execution_count": null,
   "id": "b0f173a1-8ade-4290-8c61-83f9eff4f686",
   "metadata": {},
   "outputs": [],
   "source": []
  }
 ],
 "metadata": {
  "kernelspec": {
   "display_name": "Python 3 (ipykernel)",
   "language": "python",
   "name": "python3"
  },
  "language_info": {
   "codemirror_mode": {
    "name": "ipython",
    "version": 3
   },
   "file_extension": ".py",
   "mimetype": "text/x-python",
   "name": "python",
   "nbconvert_exporter": "python",
   "pygments_lexer": "ipython3",
   "version": "3.10.12"
  }
 },
 "nbformat": 4,
 "nbformat_minor": 5
}
