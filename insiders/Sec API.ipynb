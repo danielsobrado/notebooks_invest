{
 "cells": [
  {
   "cell_type": "code",
   "execution_count": 10,
   "metadata": {},
   "outputs": [],
   "source": [
    "import yaml\n",
    "import json\n",
    "import urllib"
   ]
  },
  {
   "cell_type": "code",
   "execution_count": 11,
   "metadata": {},
   "outputs": [],
   "source": [
    "# load yml file to dictionary\n",
    "credentials = yaml.load(open('../credentials/credentials.yml'), Loader=yaml.FullLoader)\n",
    "\n",
    "# access values from dictionary\n",
    "api_key = credentials['api']['sec-api']\n",
    "\n",
    "# API endpoint\n",
    "API = \"https://api.sec-api.io?token=\" + api_key"
   ]
  },
  {
   "cell_type": "code",
   "execution_count": 12,
   "metadata": {},
   "outputs": [
    {
     "name": "stdout",
     "output_type": "stream",
     "text": [
      "{'total': {'value': 3, 'relation': 'eq'}, 'query': {'from': 0, 'size': 10}, 'filings': [{'id': '27314e16c5f49a0343de718dd7e55cac', 'accessionNo': '0001628280-16-017809', 'cik': '320193', 'ticker': 'AAPL', 'companyName': 'APPLE INC', 'companyNameLong': 'APPLE INC (Filer)', 'formType': '10-Q', 'description': 'Form 10-Q - Quarterly report [Sections 13 or 15(d)]', 'filedAt': '2016-07-27T16:32:36-04:00', 'linkToTxt': 'https://www.sec.gov/Archives/edgar/data/320193/000162828016017809/0001628280-16-017809.txt', 'linkToHtml': 'https://www.sec.gov/Archives/edgar/data/320193/0001628280-16-017809-index.htm', 'linkToXbrl': '', 'linkToFilingDetails': 'https://www.sec.gov/Archives/edgar/data/320193/000162828016017809/a10-qq320166252016.htm', 'entities': [{'companyName': 'APPLE INC (Filer)', 'cik': '0000320193', 'irsNo': '942404110', 'stateOfIncorporation': 'CA', 'fiscalYearEnd': '0924', 'type': '10-Q', 'act': '34', 'fileNo': '001-36743', 'filmNo': '161787078', 'sic': '3571 Electronic Computers'}], 'documentFormatFiles': [{'sequence': '1', 'description': '10-Q', 'documentUrl': 'https://www.sec.gov/Archives/edgar/data/320193/000162828016017809/a10-qq320166252016.htm', 'type': '10-Q', 'size': '1685373'}, {'sequence': '2', 'description': 'EXHIBIT 31.1', 'documentUrl': 'https://www.sec.gov/Archives/edgar/data/320193/000162828016017809/a10-qexhibit3116252016.htm', 'type': 'EX-31.1', 'size': '16411'}, {'sequence': '3', 'description': 'EXHIBIT 31.2', 'documentUrl': 'https://www.sec.gov/Archives/edgar/data/320193/000162828016017809/a10-qexhibit3126252016.htm', 'type': 'EX-31.2', 'size': '17539'}, {'sequence': '4', 'description': 'EXHIBIT 32.1', 'documentUrl': 'https://www.sec.gov/Archives/edgar/data/320193/000162828016017809/a10-qexhibit3216252016.htm', 'type': 'EX-32.1', 'size': '17746'}, {'sequence': '11', 'documentUrl': 'https://www.sec.gov/Archives/edgar/data/320193/000162828016017809/g66145g66h98.jpg', 'type': 'GRAPHIC', 'size': '10963'}, {'sequence': '\\xa0', 'description': 'Complete submission text file', 'documentUrl': 'https://www.sec.gov/Archives/edgar/data/320193/000162828016017809/0001628280-16-017809.txt', 'type': '\\xa0', 'size': '9797615'}], 'dataFiles': [{'sequence': '5', 'description': 'XBRL INSTANCE DOCUMENT', 'documentUrl': 'https://www.sec.gov/Archives/edgar/data/320193/000162828016017809/aapl-20160625.xml', 'type': 'EX-101.INS', 'size': '2852642'}, {'sequence': '6', 'description': 'XBRL TAXONOMY EXTENSION SCHEMA DOCUMENT', 'documentUrl': 'https://www.sec.gov/Archives/edgar/data/320193/000162828016017809/aapl-20160625.xsd', 'type': 'EX-101.SCH', 'size': '52341'}, {'sequence': '7', 'description': 'XBRL TAXONOMY EXTENSION CALCULATION LINKBASE DOCUMENT', 'documentUrl': 'https://www.sec.gov/Archives/edgar/data/320193/000162828016017809/aapl-20160625_cal.xml', 'type': 'EX-101.CAL', 'size': '86082'}, {'sequence': '8', 'description': 'XBRL TAXONOMY EXTENSION DEFINITION LINKBASE DOCUMENT', 'documentUrl': 'https://www.sec.gov/Archives/edgar/data/320193/000162828016017809/aapl-20160625_def.xml', 'type': 'EX-101.DEF', 'size': '277517'}, {'sequence': '9', 'description': 'XBRL TAXONOMY EXTENSION LABEL LINKBASE DOCUMENT', 'documentUrl': 'https://www.sec.gov/Archives/edgar/data/320193/000162828016017809/aapl-20160625_lab.xml', 'type': 'EX-101.LAB', 'size': '684013'}, {'sequence': '10', 'description': 'XBRL TAXONOMY EXTENSION PRESENTATION LINKBASE DOCUMENT', 'documentUrl': 'https://www.sec.gov/Archives/edgar/data/320193/000162828016017809/aapl-20160625_pre.xml', 'type': 'EX-101.PRE', 'size': '393675'}], 'seriesAndClassesContractsInformation': []}, {'id': '08b82df04f50eb63af660f56704f6dd3', 'accessionNo': '0001193125-16-559625', 'cik': '320193', 'ticker': 'AAPL', 'companyName': 'APPLE INC', 'companyNameLong': 'APPLE INC (Filer)', 'formType': '10-Q', 'description': 'Form 10-Q - Quarterly report [Sections 13 or 15(d)]', 'filedAt': '2016-04-27T16:32:53-04:00', 'linkToTxt': 'https://www.sec.gov/Archives/edgar/data/320193/000119312516559625/0001193125-16-559625.txt', 'linkToHtml': 'https://www.sec.gov/Archives/edgar/data/320193/0001193125-16-559625-index.htm', 'linkToXbrl': '', 'linkToFilingDetails': 'https://www.sec.gov/Archives/edgar/data/320193/000119312516559625/d165350d10q.htm', 'entities': [{'companyName': 'APPLE INC (Filer)', 'cik': '0000320193', 'irsNo': '942404110', 'stateOfIncorporation': 'CA', 'fiscalYearEnd': '0924', 'type': '10-Q', 'act': '34', 'fileNo': '001-36743', 'filmNo': '161595799', 'sic': '3571 Electronic Computers'}], 'documentFormatFiles': [{'sequence': '1', 'description': '10-Q', 'documentUrl': 'https://www.sec.gov/Archives/edgar/data/320193/000119312516559625/d165350d10q.htm', 'type': '10-Q', 'size': '800798'}, {'sequence': '2', 'description': 'EX-10.16', 'documentUrl': 'https://www.sec.gov/Archives/edgar/data/320193/000119312516559625/d165350dex1016.htm', 'type': 'EX-10.16', 'size': '36970'}, {'sequence': '3', 'description': 'EX-10.17', 'documentUrl': 'https://www.sec.gov/Archives/edgar/data/320193/000119312516559625/d165350dex1017.htm', 'type': 'EX-10.17', 'size': '51766'}, {'sequence': '4', 'description': 'EX-31.1', 'documentUrl': 'https://www.sec.gov/Archives/edgar/data/320193/000119312516559625/d165350dex311.htm', 'type': 'EX-31.1', 'size': '9368'}, {'sequence': '5', 'description': 'EX-31.2', 'documentUrl': 'https://www.sec.gov/Archives/edgar/data/320193/000119312516559625/d165350dex312.htm', 'type': 'EX-31.2', 'size': '9513'}, {'sequence': '6', 'description': 'EX-32.1', 'documentUrl': 'https://www.sec.gov/Archives/edgar/data/320193/000119312516559625/d165350dex321.htm', 'type': 'EX-32.1', 'size': '4546'}, {'sequence': '13', 'description': 'GRAPHIC', 'documentUrl': 'https://www.sec.gov/Archives/edgar/data/320193/000119312516559625/g165350g66h96.jpg', 'type': 'GRAPHIC', 'size': '10963'}, {'sequence': '\\xa0', 'description': 'Complete submission text file', 'documentUrl': 'https://www.sec.gov/Archives/edgar/data/320193/000119312516559625/0001193125-16-559625.txt', 'type': '\\xa0', 'size': '6290156'}], 'dataFiles': [{'sequence': '7', 'description': 'XBRL INSTANCE DOCUMENT', 'documentUrl': 'https://www.sec.gov/Archives/edgar/data/320193/000119312516559625/aapl-20160326.xml', 'type': 'EX-101.INS', 'size': '1625075'}, {'sequence': '8', 'description': 'XBRL TAXONOMY EXTENSION SCHEMA', 'documentUrl': 'https://www.sec.gov/Archives/edgar/data/320193/000119312516559625/aapl-20160326.xsd', 'type': 'EX-101.SCH', 'size': '53963'}, {'sequence': '9', 'description': 'XBRL TAXONOMY EXTENSION CALCULATION LINKBASE', 'documentUrl': 'https://www.sec.gov/Archives/edgar/data/320193/000119312516559625/aapl-20160326_cal.xml', 'type': 'EX-101.CAL', 'size': '77539'}, {'sequence': '10', 'description': 'XBRL TAXONOMY EXTENSION DEFINITION LINKBASE', 'documentUrl': 'https://www.sec.gov/Archives/edgar/data/320193/000119312516559625/aapl-20160326_def.xml', 'type': 'EX-101.DEF', 'size': '348734'}, {'sequence': '11', 'description': 'XBRL TAXONOMY EXTENSION LABEL LINKBASE', 'documentUrl': 'https://www.sec.gov/Archives/edgar/data/320193/000119312516559625/aapl-20160326_lab.xml', 'type': 'EX-101.LAB', 'size': '479666'}, {'sequence': '12', 'description': 'XBRL TAXONOMY EXTENSION PRESENTATION LINKBASE', 'documentUrl': 'https://www.sec.gov/Archives/edgar/data/320193/000119312516559625/aapl-20160326_pre.xml', 'type': 'EX-101.PRE', 'size': '407158'}], 'seriesAndClassesContractsInformation': []}, {'id': 'cfa9a7b265089c5ab24dbbd0103c8195', 'accessionNo': '0001193125-16-439878', 'cik': '320193', 'ticker': 'AAPL', 'companyName': 'APPLE INC', 'companyNameLong': 'APPLE INC (Filer)', 'formType': '10-Q', 'description': 'Form 10-Q - Quarterly report [Sections 13 or 15(d)]', 'filedAt': '2016-01-27T16:32:03-05:00', 'linkToTxt': 'https://www.sec.gov/Archives/edgar/data/320193/000119312516439878/0001193125-16-439878.txt', 'linkToHtml': 'https://www.sec.gov/Archives/edgar/data/320193/0001193125-16-439878-index.htm', 'linkToXbrl': '', 'linkToFilingDetails': 'https://www.sec.gov/Archives/edgar/data/320193/000119312516439878/d66145d10q.htm', 'entities': [{'companyName': 'APPLE INC (Filer)', 'cik': '0000320193', 'irsNo': '942404110', 'stateOfIncorporation': 'CA', 'fiscalYearEnd': '0924', 'type': '10-Q', 'act': '34', 'fileNo': '001-36743', 'filmNo': '161365395', 'sic': '3571 Electronic Computers'}], 'documentFormatFiles': [{'sequence': '1', 'description': 'FORM 10-Q', 'documentUrl': 'https://www.sec.gov/Archives/edgar/data/320193/000119312516439878/d66145d10q.htm', 'type': '10-Q', 'size': '634228'}, {'sequence': '2', 'description': 'EX-10.15', 'documentUrl': 'https://www.sec.gov/Archives/edgar/data/320193/000119312516439878/d66145dex1015.htm', 'type': 'EX-10.15', 'size': '25276'}, {'sequence': '3', 'description': 'EX-31.1', 'documentUrl': 'https://www.sec.gov/Archives/edgar/data/320193/000119312516439878/d66145dex311.htm', 'type': 'EX-31.1', 'size': '9055'}, {'sequence': '4', 'description': 'EX-31.2', 'documentUrl': 'https://www.sec.gov/Archives/edgar/data/320193/000119312516439878/d66145dex312.htm', 'type': 'EX-31.2', 'size': '9262'}, {'sequence': '5', 'description': 'EX-32.1', 'documentUrl': 'https://www.sec.gov/Archives/edgar/data/320193/000119312516439878/d66145dex321.htm', 'type': 'EX-32.1', 'size': '4818'}, {'sequence': '12', 'description': 'GRAPHIC', 'documentUrl': 'https://www.sec.gov/Archives/edgar/data/320193/000119312516439878/g66145g66h96.jpg', 'type': 'GRAPHIC', 'size': '10963'}, {'sequence': '\\xa0', 'description': 'Complete submission text file', 'documentUrl': 'https://www.sec.gov/Archives/edgar/data/320193/000119312516439878/0001193125-16-439878.txt', 'type': '\\xa0', 'size': '5367146'}], 'dataFiles': [{'sequence': '6', 'description': 'XBRL INSTANCE DOCUMENT', 'documentUrl': 'https://www.sec.gov/Archives/edgar/data/320193/000119312516439878/aapl-20151226.xml', 'type': 'EX-101.INS', 'size': '1280403'}, {'sequence': '7', 'description': 'XBRL TAXONOMY EXTENSION SCHEMA', 'documentUrl': 'https://www.sec.gov/Archives/edgar/data/320193/000119312516439878/aapl-20151226.xsd', 'type': 'EX-101.SCH', 'size': '51373'}, {'sequence': '8', 'description': 'XBRL TAXONOMY EXTENSION CALCULATION LINKBASE', 'documentUrl': 'https://www.sec.gov/Archives/edgar/data/320193/000119312516439878/aapl-20151226_cal.xml', 'type': 'EX-101.CAL', 'size': '77574'}, {'sequence': '9', 'description': 'XBRL TAXONOMY EXTENSION DEFINITION LINKBASE', 'documentUrl': 'https://www.sec.gov/Archives/edgar/data/320193/000119312516439878/aapl-20151226_def.xml', 'type': 'EX-101.DEF', 'size': '336561'}, {'sequence': '10', 'description': 'XBRL TAXONOMY EXTENSION LABEL LINKBASE', 'documentUrl': 'https://www.sec.gov/Archives/edgar/data/320193/000119312516439878/aapl-20151226_lab.xml', 'type': 'EX-101.LAB', 'size': '462145'}, {'sequence': '11', 'description': 'XBRL TAXONOMY EXTENSION PRESENTATION LINKBASE', 'documentUrl': 'https://www.sec.gov/Archives/edgar/data/320193/000119312516439878/aapl-20151226_pre.xml', 'type': 'EX-101.PRE', 'size': '393313'}], 'seriesAndClassesContractsInformation': []}]}\n"
     ]
    }
   ],
   "source": [
    "# define the filter parameters you want to send to the API \n",
    "payload = {\n",
    "  \"query\": { \"query_string\": { \"query\": \"cik:320193 AND filedAt:{2016-01-01 TO 2016-12-31} AND formType:\\\"10-Q\\\"\" } },\n",
    "  \"from\": \"0\",\n",
    "  \"size\": \"10\",\n",
    "  \"sort\": [{ \"filedAt\": { \"order\": \"desc\" } }]\n",
    "}\n",
    "\n",
    "# format your payload to JSON bytes\n",
    "jsondata = json.dumps(payload)\n",
    "jsondataasbytes = jsondata.encode('utf-8')   # needs to be bytes\n",
    "\n",
    "# instantiate the request \n",
    "req = urllib.request.Request(API)\n",
    "\n",
    "# set the correct HTTP header: Content-Type = application/json\n",
    "req.add_header('Content-Type', 'application/json; charset=utf-8')\n",
    "# set the correct length of your request\n",
    "req.add_header('Content-Length', len(jsondataasbytes))\n",
    "\n",
    "# send the request to the API\n",
    "response = urllib.request.urlopen(req, jsondataasbytes)\n",
    "\n",
    "# read the response \n",
    "res_body = response.read()\n",
    "# transform the response into JSON\n",
    "filings = json.loads(res_body.decode(\"utf-8\"))\n",
    "\n",
    "# print JSON \n",
    "print(filings)"
   ]
  },
  {
   "cell_type": "code",
   "execution_count": null,
   "metadata": {},
   "outputs": [],
   "source": []
  }
 ],
 "metadata": {
  "kernelspec": {
   "display_name": "Python 3",
   "language": "python",
   "name": "python3"
  },
  "language_info": {
   "codemirror_mode": {
    "name": "ipython",
    "version": 3
   },
   "file_extension": ".py",
   "mimetype": "text/x-python",
   "name": "python",
   "nbconvert_exporter": "python",
   "pygments_lexer": "ipython3",
   "version": "3.7.9"
  }
 },
 "nbformat": 4,
 "nbformat_minor": 4
}
