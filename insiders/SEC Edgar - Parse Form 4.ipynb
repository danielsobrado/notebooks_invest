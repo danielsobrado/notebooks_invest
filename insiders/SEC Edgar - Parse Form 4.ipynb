{
 "cells": [
  {
   "cell_type": "code",
   "execution_count": 2,
   "metadata": {},
   "outputs": [],
   "source": [
    "import re\n",
    "\n",
    "import pandas as pd\n",
    "import pandas_read_xml as pdx\n",
    "\n",
    "from xml.etree import ElementTree as ET\n",
    "import warnings\n",
    "warnings.filterwarnings('ignore')"
   ]
  },
  {
   "cell_type": "code",
   "execution_count": 40,
   "metadata": {},
   "outputs": [],
   "source": [
    "file = './data/sec-edgar-filings/IBM/4/0001562180-21-002509/filing-details.xml'\n",
    "tree = ET.parse(file)\n",
    "root = tree.getroot()"
   ]
  },
  {
   "cell_type": "code",
   "execution_count": 41,
   "metadata": {},
   "outputs": [
    {
     "data": {
      "text/plain": [
       "'INTERNATIONAL BUSINESS MACHINES CORP'"
      ]
     },
     "execution_count": 41,
     "metadata": {},
     "output_type": "execute_result"
    }
   ],
   "source": [
    "issuerName = root.find('issuer/issuerName')\n",
    "issuerName.text"
   ]
  },
  {
   "cell_type": "code",
   "execution_count": 42,
   "metadata": {},
   "outputs": [
    {
     "data": {
      "text/plain": [
       "'IBM'"
      ]
     },
     "execution_count": 42,
     "metadata": {},
     "output_type": "execute_result"
    }
   ],
   "source": [
    "issuerTradingSymbol = root.find('issuer/issuerTradingSymbol')\n",
    "issuerTradingSymbol.text"
   ]
  },
  {
   "cell_type": "code",
   "execution_count": 43,
   "metadata": {},
   "outputs": [
    {
     "data": {
      "text/plain": [
       "'KAVANAUGH JAMES J'"
      ]
     },
     "execution_count": 43,
     "metadata": {},
     "output_type": "execute_result"
    }
   ],
   "source": [
    "rptOwnerName = root.find('reportingOwner/reportingOwnerId/rptOwnerName')\n",
    "rptOwnerName.text"
   ]
  },
  {
   "cell_type": "code",
   "execution_count": 44,
   "metadata": {},
   "outputs": [
    {
     "data": {
      "text/plain": [
       "'Sr. VP and CFO'"
      ]
     },
     "execution_count": 44,
     "metadata": {},
     "output_type": "execute_result"
    }
   ],
   "source": [
    "officerTitle = root.find('reportingOwner/reportingOwnerRelationship/officerTitle')\n",
    "officerTitle.text"
   ]
  },
  {
   "cell_type": "code",
   "execution_count": 63,
   "metadata": {},
   "outputs": [
    {
     "data": {
      "text/plain": [
       "'133.26'"
      ]
     },
     "execution_count": 63,
     "metadata": {},
     "output_type": "execute_result"
    }
   ],
   "source": [
    "transactionDate = \"\"\n",
    "transactionAmounts = \"\"\n",
    "transactionType = \"\"\n",
    "sharesOwnedFollowingTransaction = \"\"\n",
    "transactionPricePerShare = \"\"\n",
    "if len(list(root.find('nonDerivativeTable'))) != 0:\n",
    "    transactionDate = root.find('nonDerivativeTable/nonDerivativeTransaction/transactionDate/value')\n",
    "    transactionAmounts = root.find('nonDerivativeTable/nonDerivativeTransaction/transactionAmounts/transactionShares/value')\n",
    "    transactionAcquiredDisposedCode = root.find('nonDerivativeTable/nonDerivativeTransaction/transactionAmounts/transactionAcquiredDisposedCode/value')\n",
    "    sharesOwnedFollowingTransaction = root.find('nonDerivativeTable/nonDerivativeTransaction/postTransactionAmounts/sharesOwnedFollowingTransaction/value')\n",
    "    transactionPricePerShare = root.find('nonDerivativeTable/nonDerivativeTransaction/transactionAmounts/transactionPricePerShare/value')\n",
    "    transactionType = transactionAcquiredDisposedCode.text\n",
    "elif len(list(root.find('derivativeTable'))) != 0:\n",
    "    transactionDate = root.find('derivativeTable/derivativeTransaction/transactionDate/value')\n",
    "    transactionAmounts = root.find('derivativeTable/derivativeTransaction/transactionAmounts/transactionShares/value')\n",
    "    transactionAcquiredDisposedCode = root.find('derivativeTable/derivativeTransaction/transactionAmounts/transactionAcquiredDisposedCode/value')\n",
    "    sharesOwnedFollowingTransaction = root.find('derivativeTable/derivativeTransaction/postTransactionAmounts/sharesOwnedFollowingTransaction/value')\n",
    "    transactionPricePerShare = root.find('derivativeTable/derivativeTransaction/transactionAmounts/transactionPricePerShare/value')\n",
    "    transactionType = transactionAcquiredDisposedCode.text\n",
    "if transactionType == 'A':\n",
    "    transactionType = \"Buy\"\n",
    "elif transactionType == \"D\":\n",
    "    transactionType = \"Sell\"\n",
    "transactionPricePerShare.text"
   ]
  },
  {
   "cell_type": "code",
   "execution_count": 53,
   "metadata": {},
   "outputs": [
    {
     "data": {
      "text/plain": [
       "0"
      ]
     },
     "execution_count": 53,
     "metadata": {},
     "output_type": "execute_result"
    }
   ],
   "source": [
    "len(list(root.find('nonDerivativeTable')))"
   ]
  },
  {
   "cell_type": "code",
   "execution_count": 37,
   "metadata": {},
   "outputs": [
    {
     "ename": "AttributeError",
     "evalue": "'NoneType' object has no attribute 'text'",
     "output_type": "error",
     "traceback": [
      "\u001b[0;31m---------------------------------------------------------------------------\u001b[0m",
      "\u001b[0;31mAttributeError\u001b[0m                            Traceback (most recent call last)",
      "\u001b[0;32m<ipython-input-37-4a24f674723b>\u001b[0m in \u001b[0;36m<module>\u001b[0;34m\u001b[0m\n\u001b[1;32m      1\u001b[0m \u001b[0mdtransactionDate\u001b[0m \u001b[0;34m=\u001b[0m \u001b[0mroot\u001b[0m\u001b[0;34m.\u001b[0m\u001b[0mfind\u001b[0m\u001b[0;34m(\u001b[0m\u001b[0;34m'nonDerivativeTable/derivativeTransaction/transactionDate/value'\u001b[0m\u001b[0;34m)\u001b[0m\u001b[0;34m\u001b[0m\u001b[0;34m\u001b[0m\u001b[0m\n\u001b[0;32m----> 2\u001b[0;31m \u001b[0mdtransactionDate\u001b[0m\u001b[0;34m.\u001b[0m\u001b[0mtext\u001b[0m\u001b[0;34m\u001b[0m\u001b[0;34m\u001b[0m\u001b[0m\n\u001b[0m",
      "\u001b[0;31mAttributeError\u001b[0m: 'NoneType' object has no attribute 'text'"
     ]
    }
   ],
   "source": [
    "dtransactionDate = root.find('derivativeTable/derivativeTransaction/transactionDate/value')\n",
    "dtransactionDate.text"
   ]
  },
  {
   "cell_type": "code",
   "execution_count": 9,
   "metadata": {},
   "outputs": [
    {
     "data": {
      "text/plain": [
       "'23.00'"
      ]
     },
     "execution_count": 9,
     "metadata": {},
     "output_type": "execute_result"
    }
   ],
   "source": [
    "transactionAmounts = root.find('derivativeTable/derivativeTransaction/transactionAmounts/transactionShares/value')\n",
    "transactionAmounts.text"
   ]
  },
  {
   "cell_type": "code",
   "execution_count": 10,
   "metadata": {},
   "outputs": [
    {
     "data": {
      "text/plain": [
       "'Buy'"
      ]
     },
     "execution_count": 10,
     "metadata": {},
     "output_type": "execute_result"
    }
   ],
   "source": [
    "transactionType = \"\"\n",
    "transactionAcquiredDisposedCode = root.find('derivativeTable/derivativeTransaction/transactionAmounts/transactionAcquiredDisposedCode/value')\n",
    "if transactionAcquiredDisposedCode.text == 'A':\n",
    "    transactionType = \"Buy\"\n",
    "elif transactionAcquiredDisposedCode.text == \"D\":\n",
    "    transactionType = \"Sell\"\n",
    "transactionType"
   ]
  },
  {
   "cell_type": "code",
   "execution_count": 11,
   "metadata": {},
   "outputs": [
    {
     "data": {
      "text/plain": [
       "'7886.00'"
      ]
     },
     "execution_count": 11,
     "metadata": {},
     "output_type": "execute_result"
    }
   ],
   "source": [
    "sharesOwnedFollowingTransaction = root.find('derivativeTable/derivativeTransaction/postTransactionAmounts/sharesOwnedFollowingTransaction/value')\n",
    "sharesOwnedFollowingTransaction.text"
   ]
  },
  {
   "cell_type": "code",
   "execution_count": 12,
   "metadata": {},
   "outputs": [
    {
     "data": {
      "text/plain": [
       "'133.26'"
      ]
     },
     "execution_count": 12,
     "metadata": {},
     "output_type": "execute_result"
    }
   ],
   "source": [
    "transactionPricePerShare = root.find('derivativeTable/derivativeTransaction/transactionAmounts/transactionPricePerShare/value')\n",
    "transactionPricePerShare.text"
   ]
  },
  {
   "cell_type": "code",
   "execution_count": 13,
   "metadata": {},
   "outputs": [],
   "source": [
    "form4_df = pd.DataFrame(columns=['Date', 'Ticker', 'Company Name', 'Reporter', 'Title', 'Type', 'Shares', 'Price', 'Total Shares'])"
   ]
  },
  {
   "cell_type": "code",
   "execution_count": 14,
   "metadata": {},
   "outputs": [],
   "source": [
    "new_form4 =pd.Series( [transactionDate.text, issuerTradingSymbol.text, issuerName.text, rptOwnerName.text, officerTitle.text, transactionType, transactionAmounts.text, transactionPricePerShare.text, sharesOwnedFollowingTransaction.text] , index=form4_df.columns )"
   ]
  },
  {
   "cell_type": "code",
   "execution_count": 15,
   "metadata": {},
   "outputs": [
    {
     "data": {
      "text/html": [
       "<div>\n",
       "<style scoped>\n",
       "    .dataframe tbody tr th:only-of-type {\n",
       "        vertical-align: middle;\n",
       "    }\n",
       "\n",
       "    .dataframe tbody tr th {\n",
       "        vertical-align: top;\n",
       "    }\n",
       "\n",
       "    .dataframe thead th {\n",
       "        text-align: right;\n",
       "    }\n",
       "</style>\n",
       "<table border=\"1\" class=\"dataframe\">\n",
       "  <thead>\n",
       "    <tr style=\"text-align: right;\">\n",
       "      <th></th>\n",
       "      <th>Date</th>\n",
       "      <th>Ticker</th>\n",
       "      <th>Company Name</th>\n",
       "      <th>Reporter</th>\n",
       "      <th>Title</th>\n",
       "      <th>Type</th>\n",
       "      <th>Shares</th>\n",
       "      <th>Price</th>\n",
       "      <th>Total Shares</th>\n",
       "    </tr>\n",
       "  </thead>\n",
       "  <tbody>\n",
       "    <tr>\n",
       "      <th>0</th>\n",
       "      <td>2021-03-31</td>\n",
       "      <td>IBM</td>\n",
       "      <td>INTERNATIONAL BUSINESS MACHINES CORP</td>\n",
       "      <td>KAVANAUGH JAMES J</td>\n",
       "      <td>Sr. VP and CFO</td>\n",
       "      <td>Buy</td>\n",
       "      <td>23.00</td>\n",
       "      <td>133.26</td>\n",
       "      <td>7886.00</td>\n",
       "    </tr>\n",
       "  </tbody>\n",
       "</table>\n",
       "</div>"
      ],
      "text/plain": [
       "         Date Ticker                          Company Name           Reporter  \\\n",
       "0  2021-03-31    IBM  INTERNATIONAL BUSINESS MACHINES CORP  KAVANAUGH JAMES J   \n",
       "\n",
       "            Title Type Shares   Price Total Shares  \n",
       "0  Sr. VP and CFO  Buy  23.00  133.26      7886.00  "
      ]
     },
     "execution_count": 15,
     "metadata": {},
     "output_type": "execute_result"
    }
   ],
   "source": [
    "form4_df = form4_df.append( new_form4, ignore_index=True)\n",
    "form4_df"
   ]
  },
  {
   "cell_type": "code",
   "execution_count": 69,
   "metadata": {},
   "outputs": [
    {
     "data": {
      "text/html": [
       "<div>\n",
       "<style scoped>\n",
       "    .dataframe tbody tr th:only-of-type {\n",
       "        vertical-align: middle;\n",
       "    }\n",
       "\n",
       "    .dataframe tbody tr th {\n",
       "        vertical-align: top;\n",
       "    }\n",
       "\n",
       "    .dataframe thead th {\n",
       "        text-align: right;\n",
       "    }\n",
       "</style>\n",
       "<table border=\"1\" class=\"dataframe\">\n",
       "  <thead>\n",
       "    <tr style=\"text-align: right;\">\n",
       "      <th></th>\n",
       "      <th></th>\n",
       "      <th>Company Name</th>\n",
       "      <th>Reporter</th>\n",
       "      <th>Title</th>\n",
       "      <th>Type</th>\n",
       "      <th>Shares</th>\n",
       "      <th>Price</th>\n",
       "      <th>Total Shares</th>\n",
       "    </tr>\n",
       "    <tr>\n",
       "      <th>Ticker</th>\n",
       "      <th>Date</th>\n",
       "      <th></th>\n",
       "      <th></th>\n",
       "      <th></th>\n",
       "      <th></th>\n",
       "      <th></th>\n",
       "      <th></th>\n",
       "      <th></th>\n",
       "    </tr>\n",
       "  </thead>\n",
       "  <tbody>\n",
       "    <tr>\n",
       "      <th rowspan=\"4\" valign=\"top\">IBM</th>\n",
       "      <th>2021-03-31</th>\n",
       "      <td>INTERNATIONAL BUSINESS MACHINES CORP</td>\n",
       "      <td>KAVANAUGH JAMES J</td>\n",
       "      <td>Sr. VP and CFO</td>\n",
       "      <td>Buy</td>\n",
       "      <td>23.00</td>\n",
       "      <td>133.26</td>\n",
       "      <td>7886.00</td>\n",
       "    </tr>\n",
       "    <tr>\n",
       "      <th>2021-03-31</th>\n",
       "      <td>INTERNATIONAL BUSINESS MACHINES CORP</td>\n",
       "      <td>TAUREL SIDNEY</td>\n",
       "      <td>None</td>\n",
       "      <td>Buy</td>\n",
       "      <td>610.00</td>\n",
       "      <td>133.26</td>\n",
       "      <td>44931.00</td>\n",
       "    </tr>\n",
       "    <tr>\n",
       "      <th>2021-03-31</th>\n",
       "      <td>INTERNATIONAL BUSINESS MACHINES CORP</td>\n",
       "      <td>HOWARD MICHELLE J</td>\n",
       "      <td>None</td>\n",
       "      <td>Buy</td>\n",
       "      <td>549.00</td>\n",
       "      <td>133.26</td>\n",
       "      <td>4972.00</td>\n",
       "    </tr>\n",
       "    <tr>\n",
       "      <th>2021-03-31</th>\n",
       "      <td>INTERNATIONAL BUSINESS MACHINES CORP</td>\n",
       "      <td>ESKEW MICHAEL L</td>\n",
       "      <td>None</td>\n",
       "      <td>Buy</td>\n",
       "      <td>742.00</td>\n",
       "      <td>133.26</td>\n",
       "      <td>42427.00</td>\n",
       "    </tr>\n",
       "    <tr>\n",
       "      <th rowspan=\"2\" valign=\"top\">MMM</th>\n",
       "      <th>2021-02-04</th>\n",
       "      <td>3M CO</td>\n",
       "      <td>Lakkundi Veena M</td>\n",
       "      <td>Senior Vice President</td>\n",
       "      <td>Buy</td>\n",
       "      <td>178</td>\n",
       "      <td>0</td>\n",
       "      <td>357</td>\n",
       "    </tr>\n",
       "    <tr>\n",
       "      <th>2021-02-05</th>\n",
       "      <td>3M CO</td>\n",
       "      <td>Reinseth Theresa E</td>\n",
       "      <td>Vice President/CAO</td>\n",
       "      <td>Buy</td>\n",
       "      <td>289</td>\n",
       "      <td>0</td>\n",
       "      <td>0</td>\n",
       "    </tr>\n",
       "  </tbody>\n",
       "</table>\n",
       "</div>"
      ],
      "text/plain": [
       "                                           Company Name            Reporter  \\\n",
       "Ticker Date                                                                   \n",
       "IBM    2021-03-31  INTERNATIONAL BUSINESS MACHINES CORP   KAVANAUGH JAMES J   \n",
       "       2021-03-31  INTERNATIONAL BUSINESS MACHINES CORP       TAUREL SIDNEY   \n",
       "       2021-03-31  INTERNATIONAL BUSINESS MACHINES CORP   HOWARD MICHELLE J   \n",
       "       2021-03-31  INTERNATIONAL BUSINESS MACHINES CORP     ESKEW MICHAEL L   \n",
       "MMM    2021-02-04                                 3M CO    Lakkundi Veena M   \n",
       "       2021-02-05                                 3M CO  Reinseth Theresa E   \n",
       "\n",
       "                                   Title Type  Shares   Price Total Shares  \n",
       "Ticker Date                                                                 \n",
       "IBM    2021-03-31         Sr. VP and CFO  Buy   23.00  133.26      7886.00  \n",
       "       2021-03-31                   None  Buy  610.00  133.26     44931.00  \n",
       "       2021-03-31                   None  Buy  549.00  133.26      4972.00  \n",
       "       2021-03-31                   None  Buy  742.00  133.26     42427.00  \n",
       "MMM    2021-02-04  Senior Vice President  Buy     178       0          357  \n",
       "       2021-02-05     Vice President/CAO  Buy     289       0            0  "
      ]
     },
     "execution_count": 69,
     "metadata": {},
     "output_type": "execute_result"
    }
   ],
   "source": [
    "form4_df = pd.DataFrame(columns=['Date', 'Ticker', 'Company Name', 'Reporter', 'Title', 'Type', 'Shares', 'Price', 'Total Shares'])\n",
    "\n",
    "def parseForm4(file, df):\n",
    "    tree = ET.parse(file)\n",
    "    root = tree.getroot()\n",
    "    issuerName = root.find('issuer/issuerName')\n",
    "    issuerTradingSymbol = root.find('issuer/issuerTradingSymbol')\n",
    "    rptOwnerName = root.find('reportingOwner/reportingOwnerId/rptOwnerName')\n",
    "    officerTitle = root.find('reportingOwner/reportingOwnerRelationship/officerTitle')\n",
    "    \n",
    "    \n",
    "    transactionDate = \"\"\n",
    "    transactionAmounts = \"\"\n",
    "    transactionType = \"\"\n",
    "    sharesOwnedFollowingTransaction = \"\"\n",
    "    transactionPricePerShare = \"\"\n",
    "    if len(list(root.find('nonDerivativeTable'))) != 0:\n",
    "        transactionDate = root.find('nonDerivativeTable/nonDerivativeTransaction/transactionDate/value')\n",
    "        transactionAmounts = root.find('nonDerivativeTable/nonDerivativeTransaction/transactionAmounts/transactionShares/value')\n",
    "        transactionAcquiredDisposedCode = root.find('nonDerivativeTable/nonDerivativeTransaction/transactionAmounts/transactionAcquiredDisposedCode/value')\n",
    "        sharesOwnedFollowingTransaction = root.find('nonDerivativeTable/nonDerivativeTransaction/postTransactionAmounts/sharesOwnedFollowingTransaction/value')\n",
    "        transactionPricePerShare = root.find('nonDerivativeTable/nonDerivativeTransaction/transactionAmounts/transactionPricePerShare/value')\n",
    "        transactionType = transactionAcquiredDisposedCode.text\n",
    "    elif len(list(root.find('derivativeTable'))) != 0:\n",
    "        transactionDate = root.find('derivativeTable/derivativeTransaction/transactionDate/value')\n",
    "        transactionAmounts = root.find('derivativeTable/derivativeTransaction/transactionAmounts/transactionShares/value')\n",
    "        transactionAcquiredDisposedCode = root.find('derivativeTable/derivativeTransaction/transactionAmounts/transactionAcquiredDisposedCode/value')\n",
    "        sharesOwnedFollowingTransaction = root.find('derivativeTable/derivativeTransaction/postTransactionAmounts/sharesOwnedFollowingTransaction/value')\n",
    "        transactionPricePerShare = root.find('derivativeTable/derivativeTransaction/transactionAmounts/transactionPricePerShare/value')\n",
    "        transactionType = transactionAcquiredDisposedCode.text\n",
    "    if transactionType == 'A':\n",
    "        transactionType = \"Buy\"\n",
    "    elif transactionType == \"D\":\n",
    "        transactionType = \"Sell\"\n",
    "    else:\n",
    "        transactionType = \"Other\"\n",
    "    sharesOwnedFollowingTransaction = root.find('derivativeTable/derivativeTransaction/postTransactionAmounts/sharesOwnedFollowingTransaction/value')\n",
    "    transactionPricePerShare = root.find('derivativeTable/derivativeTransaction/transactionAmounts/transactionPricePerShare/value')\n",
    "    new_form4 =pd.Series( [transactionDate.text, issuerTradingSymbol.text, issuerName.text, rptOwnerName.text, officerTitle.text, transactionType, transactionAmounts.text, transactionPricePerShare.text, sharesOwnedFollowingTransaction.text] , index=form4_df.columns )\n",
    "    df = df.append( new_form4, ignore_index=True)\n",
    "    return df\n",
    "    \n",
    "form4_df = parseForm4('./data/sec-edgar-filings/IBM/4/0001562180-21-002509/filing-details.xml', form4_df)\n",
    "form4_df = parseForm4('./data/sec-edgar-filings/IBM/4/0001562180-21-002513/filing-details.xml', form4_df)\n",
    "form4_df = parseForm4('./data/sec-edgar-filings/IBM/4/0001562180-21-002518/filing-details.xml', form4_df)\n",
    "form4_df = parseForm4('./data/sec-edgar-filings/IBM/4/0001562180-21-002521/filing-details.xml', form4_df)\n",
    "form4_df = parseForm4('./data/sec-edgar-filings/MMM/4/0001127602-21-004276/filing-details.xml', form4_df)\n",
    "form4_df = parseForm4('./data/sec-edgar-filings/MMM/4/0001127602-21-004278/filing-details.xml', form4_df)\n",
    "# form4_df = parseForm4('./data/sec-edgar-filings/MMM/4/0001127602-21-004629/filing-details.xml', form4_df)\n",
    "# form4_df = parseForm4('./data/sec-edgar-filings/MMM/4/0001127602-21-006407/filing-details.xml', form4_df)\n",
    "form4_df = form4_df.set_index([\"Ticker\", \"Date\"]) \n",
    "form4_df"
   ]
  },
  {
   "cell_type": "code",
   "execution_count": null,
   "metadata": {},
   "outputs": [],
   "source": []
  },
  {
   "cell_type": "code",
   "execution_count": null,
   "metadata": {},
   "outputs": [],
   "source": []
  }
 ],
 "metadata": {
  "kernelspec": {
   "display_name": "Python 3",
   "language": "python",
   "name": "python3"
  },
  "language_info": {
   "codemirror_mode": {
    "name": "ipython",
    "version": 3
   },
   "file_extension": ".py",
   "mimetype": "text/x-python",
   "name": "python",
   "nbconvert_exporter": "python",
   "pygments_lexer": "ipython3",
   "version": "3.8.5"
  }
 },
 "nbformat": 4,
 "nbformat_minor": 4
}
