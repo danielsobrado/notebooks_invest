{
 "cells": [
  {
   "cell_type": "code",
   "execution_count": 1,
   "metadata": {},
   "outputs": [],
   "source": [
    "import pandas_datareader.data as web\n",
    "import matplotlib.pyplot as plt\n",
    "import investpy"
   ]
  },
  {
   "cell_type": "code",
   "execution_count": 7,
   "metadata": {},
   "outputs": [
    {
     "name": "stdout",
     "output_type": "stream",
     "text": [
      "             Open   High    Low  Close    Volume Currency\n",
      "Date                                                     \n",
      "2017-06-01  80.37  80.90  80.19  80.70   9884090      USD\n",
      "2017-06-02  80.59  80.68  79.26  79.50  21687304      USD\n",
      "2017-06-05  79.44  80.39  79.40  80.12  11527068      USD\n",
      "2017-06-06  80.30  81.32  80.22  81.21  12208648      USD\n",
      "2017-06-07  81.05  81.40  80.34  80.91  13096541      USD\n"
     ]
    }
   ],
   "source": [
    "ticker = 'XOM'\n",
    "start = '01/06/2017'\n",
    "end = '31/12/2017'\n",
    "\n",
    "df = investpy.get_stock_historical_data(stock=ticker,\n",
    "                                        country='United States',\n",
    "                                        from_date=start,\n",
    "                                        to_date=end)\n",
    "print(df.head())"
   ]
  },
  {
   "cell_type": "code",
   "execution_count": 8,
   "metadata": {},
   "outputs": [
    {
     "name": "stdout",
     "output_type": "stream",
     "text": [
      "Min Date: 2017-06-01 00:00:00\n",
      "Max Date: 2017-12-29 00:00:00\n"
     ]
    }
   ],
   "source": [
    "max_date = df.index.max()\n",
    "min_date = df.index.min()\n",
    "print(\"Min Date: \" + str(min_date))\n",
    "print(\"Max Date: \" + str(max_date))"
   ]
  },
  {
   "cell_type": "code",
   "execution_count": 9,
   "metadata": {},
   "outputs": [
    {
     "name": "stdout",
     "output_type": "stream",
     "text": [
      "Price min:76.1\n"
     ]
    }
   ],
   "source": [
    "#price_min = 76 \n",
    "price_min = df.Close.min()\n",
    "print(\"Price min:\" + str(price_min))"
   ]
  },
  {
   "cell_type": "code",
   "execution_count": 10,
   "metadata": {},
   "outputs": [
    {
     "name": "stdout",
     "output_type": "stream",
     "text": [
      "Price max:84.02\n"
     ]
    }
   ],
   "source": [
    "#price_max = 84 \n",
    "price_max = df.Close.max()\n",
    "print(\"Price max:\" + str(price_max))"
   ]
  },
  {
   "cell_type": "code",
   "execution_count": 11,
   "metadata": {},
   "outputs": [
    {
     "name": "stdout",
     "output_type": "stream",
     "text": [
      "Level Price\n",
      "0% Level:  84.02\n",
      "23.6% Level:  82.15088\n",
      "38.2% Level:  80.99455999999999\n",
      "61.8% Level:  79.12544\n",
      "100% Level:  76.1\n"
     ]
    },
    {
     "data": {
      "image/png": "[encoded data removed]",
      "text/plain": [
       "<Figure size 432x288 with 1 Axes>"
      ]
     },
     "metadata": {
      "needs_background": "light"
     },
     "output_type": "display_data"
    }
   ],
   "source": [
    "fig, ax = plt.subplots()\n",
    "\n",
    "diff = price_max - price_min\n",
    "level1 = price_max - 0.236 * diff\n",
    "level2 = price_max - 0.382 * diff\n",
    "level3 = price_max - 0.618 * diff\n",
    "\n",
    "print(\"Level\", \"Price\")\n",
    "print(\"0% Level: \", price_max)\n",
    "print(\"23.6% Level: \", level1)\n",
    "print(\"38.2% Level: \", level2)\n",
    "print(\"61.8% Level: \", level3)\n",
    "print(\"100% Level: \", price_min)\n",
    "\n",
    "ax.axhspan(level2, level1, alpha=0.1, color='green')\n",
    "ax.axhspan(level3, level2, alpha=0.1, color='blue')\n",
    "ax.axhspan(price_max, level3, alpha=0.1, color='red')\n",
    "\n",
    "plt.hlines(price_min, min_date, max_date, linewidth=2, color='C0', alpha=0.25, label='Min') \n",
    "plt.hlines(level1, min_date, max_date, linewidth=1, color='red', linestyles='dashed', alpha=0.75, label='23.6%') \n",
    "plt.hlines(level2, min_date, max_date, linewidth=1, color='green',  linestyles='dashed', alpha=0.75, label='38.2%') \n",
    "plt.hlines(level3, min_date, max_date, linewidth=1, color='blue',  linestyles='dashed', alpha=0.75, label='61.8%') \n",
    "plt.hlines(price_max, min_date, max_date, linewidth=2, color='C0', alpha=0.25, label='Max') \n",
    "ax.legend()\n",
    "\n",
    "ax.set_xlim(min_date, max_date)\n",
    "plt.ylabel(\"Price\")\n",
    "plt.xlabel(\"Date\")\n",
    "plt.xticks(rotation=45)\n",
    "\n",
    "ax.plot(df.Close, color='black')\n",
    "plt.show()"
   ]
  },
  {
   "cell_type": "code",
   "execution_count": null,
   "metadata": {},
   "outputs": [],
   "source": []
  }
 ],
 "metadata": {
  "kernelspec": {
   "display_name": "Python 3",
   "language": "python",
   "name": "python3"
  },
  "language_info": {
   "codemirror_mode": {
    "name": "ipython",
    "version": 3
   },
   "file_extension": ".py",
   "mimetype": "text/x-python",
   "name": "python",
   "nbconvert_exporter": "python",
   "pygments_lexer": "ipython3",
   "version": "3.7.9"
  }
 },
 "nbformat": 4,
 "nbformat_minor": 4
}
