{
 "cells": [
  {
   "cell_type": "code",
   "execution_count": 1,
   "id": "5e50f64d",
   "metadata": {},
   "outputs": [
    {
     "name": "stderr",
     "output_type": "stream",
     "text": [
      "C:\\Users\\User\\AppData\\Local\\Temp\\ipykernel_20244\\3209428727.py:2: UserWarning: \n",
      "The dash_core_components package is deprecated. Please replace\n",
      "`import dash_core_components as dcc` with `from dash import dcc`\n",
      "  import dash_core_components as dcc\n",
      "C:\\Users\\User\\AppData\\Local\\Temp\\ipykernel_20244\\3209428727.py:3: UserWarning: \n",
      "The dash_html_components package is deprecated. Please replace\n",
      "`import dash_html_components as html` with `from dash import html`\n",
      "  import dash_html_components as html\n"
     ]
    }
   ],
   "source": [
    "import dash\n",
    "import dash_core_components as dcc\n",
    "import dash_html_components as html\n",
    "import plotly.graph_objs as go\n",
    "import pandas as pd\n",
    "import backtrader as bt\n",
    "import yfinance as yf\n",
    "from datetime import datetime"
   ]
  },
  {
   "cell_type": "code",
   "execution_count": 2,
   "id": "da1293e0",
   "metadata": {},
   "outputs": [],
   "source": [
    "class LazyGoldStrategy(bt.Strategy):\n",
    "    def __init__(self):\n",
    "        self.spy = self.datas[0]\n",
    "        self.gld = self.datas[1]\n",
    "        self.val_start = self.broker.get_cash()\n",
    "\n",
    "    def next(self):\n",
    "        if self.data.datetime.date().month == 12 or self.data.datetime.date().month == 1 or self.data.datetime.date().month == 2 or self.data.datetime.date().month == 8:\n",
    "            self.buy(self.gld)\n",
    "        else:\n",
    "            self.buy(self.spy)\n",
    "    \n",
    "    def stop(self):\n",
    "        self.roi = (self.broker.get_value() / self.val_start) - 1.0"
   ]
  },
  {
   "cell_type": "code",
   "execution_count": 3,
   "id": "6d2215fe",
   "metadata": {},
   "outputs": [],
   "source": [
    "class SixtyFortyStrategy(bt.Strategy):\n",
    "    def __init__(self):\n",
    "        self.spy = self.datas[0]\n",
    "        self.agg = self.datas[1]\n",
    "        self.val_start = self.broker.get_cash()\n",
    "\n",
    "    def next(self):\n",
    "        if self.data.datetime.date().year != self.data.datetime.date(-1).year:\n",
    "            self.order_target_percent(self.spy, target=0.6)\n",
    "            self.order_target_percent(self.agg, target=0.4)\n",
    "\n",
    "    def stop(self):\n",
    "        self.roi = (self.broker.get_value() / self.val_start) - 1.0"
   ]
  },
  {
   "cell_type": "code",
   "execution_count": 4,
   "id": "40d0ec0d",
   "metadata": {},
   "outputs": [],
   "source": [
    "class BuyAndHoldStrategy(bt.Strategy):\n",
    "    def start(self):\n",
    "        self.val_start = self.broker.get_cash()\n",
    "\n",
    "    def nextstart(self):\n",
    "        self.buy(size=(self.broker.get_cash() / self.data))\n",
    "\n",
    "    def stop(self):\n",
    "        self.roi = (self.broker.get_value() / self.val_start) - 1.0\n"
   ]
  },
  {
   "cell_type": "code",
   "execution_count": 5,
   "id": "89c9be89",
   "metadata": {},
   "outputs": [
    {
     "name": "stdout",
     "output_type": "stream",
     "text": [
      "[*********************100%***********************]  1 of 1 completed\n",
      "[*********************100%***********************]  1 of 1 completed\n",
      "[*********************100%***********************]  1 of 1 completed\n"
     ]
    }
   ],
   "source": [
    "# Load Data\n",
    "spy_data = yf.download('SPY', start='2011-05-05', end='2019-10-03', auto_adjust=True)\n",
    "gld_data = yf.download('GLD', start='2011-05-05', end='2019-10-03', auto_adjust=True)\n",
    "agg_data = yf.download('AGG', start='2011-05-05', end='2019-10-03', auto_adjust=True)\n",
    "\n",
    "# Create the data feeds for backtrader\n",
    "data_spy = bt.feeds.PandasData(dataname=spy_data)\n",
    "data_gld = bt.feeds.PandasData(dataname=gld_data)\n",
    "data_agg = bt.feeds.PandasData(dataname=agg_data)"
   ]
  },
  {
   "cell_type": "code",
   "execution_count": 10,
   "id": "3713f33b",
   "metadata": {},
   "outputs": [],
   "source": [
    "# Create a separate cerebro instance for each strategy\n",
    "cerebro1 = bt.Cerebro()\n",
    "cerebro2 = bt.Cerebro()\n",
    "cerebro3 = bt.Cerebro()\n",
    "\n",
    "# Add the data feeds to each cerebro instance\n",
    "cerebro1.adddata(data_spy)\n",
    "cerebro1.adddata(data_gld)\n",
    "\n",
    "cerebro2.adddata(data_spy)\n",
    "cerebro2.adddata(data_agg)\n",
    "\n",
    "cerebro3.adddata(data_spy)\n",
    "\n",
    "# Add the corresponding strategy to each cerebro instance\n",
    "cerebro1.addstrategy(LazyGoldStrategy)\n",
    "cerebro2.addstrategy(SixtyFortyStrategy)\n",
    "cerebro3.addstrategy(BuyAndHoldStrategy)\n",
    "\n",
    "# Set the initial cash for each cerebro instance\n",
    "cerebro1.broker.setcash(10000.0)\n",
    "cerebro2.broker.setcash(10000.0)\n",
    "cerebro3.broker.setcash(10000.0)\n",
    "\n",
    "# Add analyzers to each cerebro instance\n",
    "cerebro1.addanalyzer(bt.analyzers.SharpeRatio, _name='sharpe_ratio')\n",
    "cerebro1.addanalyzer(bt.analyzers.DrawDown, _name='drawdown')\n",
    "\n",
    "cerebro2.addanalyzer(bt.analyzers.SharpeRatio, _name='sharpe_ratio')\n",
    "cerebro2.addanalyzer(bt.analyzers.DrawDown, _name='drawdown')\n",
    "\n",
    "cerebro3.addanalyzer(bt.analyzers.SharpeRatio, _name='sharpe_ratio')\n",
    "cerebro3.addanalyzer(bt.analyzers.DrawDown, _name='drawdown')\n",
    "\n",
    "# Run the backtests\n",
    "lazy_strategy = cerebro1.run()\n",
    "sixty_forty_strategy = cerebro2.run()\n",
    "buy_and_hold_strategy = cerebro3.run()"
   ]
  },
  {
   "cell_type": "code",
   "execution_count": 12,
   "id": "987f1d30",
   "metadata": {},
   "outputs": [],
   "source": [
    "# Get the strategies\n",
    "lazy_strategy = results1[0]\n",
    "sixty_forty_strategy = results2[0]\n",
    "buy_and_hold_strategy = results3[0]\n",
    "\n",
    "# Now you can get the roi and the analyzers\n",
    "lazy_roi = lazy_strategy.roi\n",
    "lazy_sharpe_ratio = lazy_strategy.analyzers.sharpe_ratio.get_analysis()['sharperatio']\n",
    "lazy_drawdown = lazy_strategy.analyzers.drawdown.get_analysis()['drawdown']\n",
    "\n",
    "sixty_forty_roi = sixty_forty_strategy.roi\n",
    "sixty_forty_sharpe_ratio = sixty_forty_strategy.analyzers.sharpe_ratio.get_analysis()['sharperatio']\n",
    "sixty_forty_drawdown = sixty_forty_strategy.analyzers.drawdown.get_analysis()['drawdown']\n",
    "\n",
    "buy_and_hold_roi = buy_and_hold_strategy.roi\n",
    "buy_and_hold_sharpe_ratio = buy_and_hold_strategy.analyzers.sharpe_ratio.get_analysis()['sharperatio']\n",
    "buy_and_hold_drawdown = buy_and_hold_strategy.analyzers.drawdown.get_analysis()['drawdown']\n"
   ]
  },
  {
   "cell_type": "code",
   "execution_count": 13,
   "id": "8e51083c",
   "metadata": {},
   "outputs": [],
   "source": [
    "# Prepare data for the metrics table\n",
    "metrics_data = pd.DataFrame(\n",
    "    {\n",
    "        'Strategy': ['Lazy Gold Strategy', '60/40 Strategy', 'Buy and Hold Strategy'],\n",
    "        'ROI': [lazy_roi, sixty_forty_roi, buy_and_hold_roi],\n",
    "        'Sharpe Ratio': [lazy_sharpe_ratio, sixty_forty_sharpe_ratio, buy_and_hold_sharpe_ratio],\n",
    "        'Drawdown': [lazy_drawdown, sixty_forty_drawdown, buy_and_hold_drawdown]\n",
    "    }\n",
    ")"
   ]
  },
  {
   "cell_type": "code",
   "execution_count": 14,
   "id": "bb78b310",
   "metadata": {},
   "outputs": [
    {
     "data": {
      "text/html": [
       "<div>\n",
       "<style scoped>\n",
       "    .dataframe tbody tr th:only-of-type {\n",
       "        vertical-align: middle;\n",
       "    }\n",
       "\n",
       "    .dataframe tbody tr th {\n",
       "        vertical-align: top;\n",
       "    }\n",
       "\n",
       "    .dataframe thead th {\n",
       "        text-align: right;\n",
       "    }\n",
       "</style>\n",
       "<table border=\"1\" class=\"dataframe\">\n",
       "  <thead>\n",
       "    <tr style=\"text-align: right;\">\n",
       "      <th></th>\n",
       "      <th>Strategy</th>\n",
       "      <th>ROI</th>\n",
       "      <th>Sharpe Ratio</th>\n",
       "      <th>Drawdown</th>\n",
       "    </tr>\n",
       "  </thead>\n",
       "  <tbody>\n",
       "    <tr>\n",
       "      <th>0</th>\n",
       "      <td>Lazy Gold Strategy</td>\n",
       "      <td>0.952965</td>\n",
       "      <td>0.795272</td>\n",
       "      <td>3.372174</td>\n",
       "    </tr>\n",
       "    <tr>\n",
       "      <th>1</th>\n",
       "      <td>60/40 Strategy</td>\n",
       "      <td>0.961697</td>\n",
       "      <td>1.005868</td>\n",
       "      <td>2.110878</td>\n",
       "    </tr>\n",
       "    <tr>\n",
       "      <th>2</th>\n",
       "      <td>Buy and Hold Strategy</td>\n",
       "      <td>0.000000</td>\n",
       "      <td>NaN</td>\n",
       "      <td>0.000000</td>\n",
       "    </tr>\n",
       "  </tbody>\n",
       "</table>\n",
       "</div>"
      ],
      "text/plain": [
       "                Strategy       ROI  Sharpe Ratio  Drawdown\n",
       "0     Lazy Gold Strategy  0.952965      0.795272  3.372174\n",
       "1         60/40 Strategy  0.961697      1.005868  2.110878\n",
       "2  Buy and Hold Strategy  0.000000           NaN  0.000000"
      ]
     },
     "execution_count": 14,
     "metadata": {},
     "output_type": "execute_result"
    }
   ],
   "source": [
    "metrics_data"
   ]
  },
  {
   "cell_type": "code",
   "execution_count": null,
   "id": "e5c9256a",
   "metadata": {},
   "outputs": [],
   "source": []
  }
 ],
 "metadata": {
  "kernelspec": {
   "display_name": "Python [conda env:backtest] *",
   "language": "python",
   "name": "conda-env-backtest-py"
  },
  "language_info": {
   "codemirror_mode": {
    "name": "ipython",
    "version": 3
   },
   "file_extension": ".py",
   "mimetype": "text/x-python",
   "name": "python",
   "nbconvert_exporter": "python",
   "pygments_lexer": "ipython3",
   "version": "3.8.17"
  }
 },
 "nbformat": 4,
 "nbformat_minor": 5
}
