{
 "cells": [
  {
   "cell_type": "code",
   "execution_count": 3,
   "id": "5e50f64d",
   "metadata": {},
   "outputs": [],
   "source": [
    "import yfinance as yf\n",
    "import backtrader as bt\n",
    "import backtrader.feeds as btfeeds\n",
    "from datetime import datetime"
   ]
  },
  {
   "cell_type": "code",
   "execution_count": 4,
   "id": "da1293e0",
   "metadata": {},
   "outputs": [
    {
     "name": "stdout",
     "output_type": "stream",
     "text": [
      "[*********************100%***********************]  1 of 1 completed\n",
      "[*********************100%***********************]  1 of 1 completed\n"
     ]
    }
   ],
   "source": [
    "# Download historical data\n",
    "data_GLD = yf.download('GLD', start='2011-05-05', end=datetime.now().strftime('%Y-%m-%d'))\n",
    "data_SPLV = yf.download('SPLV', start='2011-05-05', end=datetime.now().strftime('%Y-%m-%d'))\n",
    "data_spy = btfeeds.YahooFinanceData(dataname='SPY', fromdate=datetime(2011,5,5), todate=datetime(2022,12,31))\n",
    "data_agg = btfeeds.YahooFinanceData(dataname='AGG', fromdate=datetime(2011,5,5), todate=datetime(2022,12,31))"
   ]
  },
  {
   "cell_type": "code",
   "execution_count": 5,
   "id": "6d2215fe",
   "metadata": {},
   "outputs": [
    {
     "name": "stdout",
     "output_type": "stream",
     "text": [
      "2011-05-05 00:00:00\n"
     ]
    }
   ],
   "source": [
    "print(data_GLD.index.min())"
   ]
  },
  {
   "cell_type": "code",
   "execution_count": 6,
   "id": "40d0ec0d",
   "metadata": {},
   "outputs": [
    {
     "name": "stdout",
     "output_type": "stream",
     "text": [
      "2011-05-05 00:00:00\n"
     ]
    }
   ],
   "source": [
    "print(data_SPLV.index.min())"
   ]
  },
  {
   "cell_type": "code",
   "execution_count": 7,
   "id": "89c9be89",
   "metadata": {},
   "outputs": [],
   "source": [
    "class SimpleGold(bt.Strategy):\n",
    "\n",
    "    def __init__(self):\n",
    "        self.GLD = self.datas[0]\n",
    "        self.SPLV = self.datas[1]\n",
    "        \n",
    "    def next(self):\n",
    "        date = self.datas[0].datetime.date(0)\n",
    "        if ((date.month == 12 and date.day >= 20) or (date.month == 1) or \n",
    "            (date.month == 2 and date.day <= 20) or (date.month == 8)):\n",
    "            if self.getposition(self.SPLV).size:\n",
    "                self.sell(data=self.SPLV)\n",
    "            if not self.getposition(self.GLD).size:\n",
    "                self.buy(data=self.GLD)\n",
    "        else:\n",
    "            if self.getposition(self.GLD).size:\n",
    "                self.sell(data=self.GLD)\n",
    "            if not self.getposition(self.SPLV).size:\n",
    "                self.buy(data=self.SPLV)"
   ]
  },
  {
   "cell_type": "code",
   "execution_count": 8,
   "id": "3713f33b",
   "metadata": {},
   "outputs": [],
   "source": [
    "# Define Buy and Hold Strategy\n",
    "class BuyAndHold(bt.Strategy):\n",
    "    def next(self):\n",
    "        if not self.position:\n",
    "            self.buy()"
   ]
  },
  {
   "cell_type": "code",
   "execution_count": 9,
   "id": "e075275b",
   "metadata": {},
   "outputs": [
    {
     "ename": "FileNotFoundError",
     "evalue": "[Errno 2] No such file or directory: 'SPY'",
     "output_type": "error",
     "traceback": [
      "\u001b[1;31m---------------------------------------------------------------------------\u001b[0m",
      "\u001b[1;31mFileNotFoundError\u001b[0m                         Traceback (most recent call last)",
      "Cell \u001b[1;32mIn[9], line 5\u001b[0m\n\u001b[0;32m      3\u001b[0m cerebro\u001b[38;5;241m.\u001b[39maddstrategy(BuyAndHold)\n\u001b[0;32m      4\u001b[0m cerebro\u001b[38;5;241m.\u001b[39madddata(data_spy)\n\u001b[1;32m----> 5\u001b[0m \u001b[43mcerebro\u001b[49m\u001b[38;5;241;43m.\u001b[39;49m\u001b[43mrun\u001b[49m\u001b[43m(\u001b[49m\u001b[43m)\u001b[49m\n",
      "File \u001b[1;32mF:\\anaconda3\\envs\\backtest\\lib\\site-packages\\backtrader\\cerebro.py:1132\u001b[0m, in \u001b[0;36mCerebro.run\u001b[1;34m(self, **kwargs)\u001b[0m\n\u001b[0;32m   1128\u001b[0m \u001b[38;5;28;01mif\u001b[39;00m \u001b[38;5;129;01mnot\u001b[39;00m \u001b[38;5;28mself\u001b[39m\u001b[38;5;241m.\u001b[39m_dooptimize \u001b[38;5;129;01mor\u001b[39;00m \u001b[38;5;28mself\u001b[39m\u001b[38;5;241m.\u001b[39mp\u001b[38;5;241m.\u001b[39mmaxcpus \u001b[38;5;241m==\u001b[39m \u001b[38;5;241m1\u001b[39m:\n\u001b[0;32m   1129\u001b[0m     \u001b[38;5;66;03m# If no optimmization is wished ... or 1 core is to be used\u001b[39;00m\n\u001b[0;32m   1130\u001b[0m     \u001b[38;5;66;03m# let's skip process \"spawning\"\u001b[39;00m\n\u001b[0;32m   1131\u001b[0m     \u001b[38;5;28;01mfor\u001b[39;00m iterstrat \u001b[38;5;129;01min\u001b[39;00m iterstrats:\n\u001b[1;32m-> 1132\u001b[0m         runstrat \u001b[38;5;241m=\u001b[39m \u001b[38;5;28;43mself\u001b[39;49m\u001b[38;5;241;43m.\u001b[39;49m\u001b[43mrunstrategies\u001b[49m\u001b[43m(\u001b[49m\u001b[43miterstrat\u001b[49m\u001b[43m)\u001b[49m\n\u001b[0;32m   1133\u001b[0m         \u001b[38;5;28mself\u001b[39m\u001b[38;5;241m.\u001b[39mrunstrats\u001b[38;5;241m.\u001b[39mappend(runstrat)\n\u001b[0;32m   1134\u001b[0m         \u001b[38;5;28;01mif\u001b[39;00m \u001b[38;5;28mself\u001b[39m\u001b[38;5;241m.\u001b[39m_dooptimize:\n",
      "File \u001b[1;32mF:\\anaconda3\\envs\\backtest\\lib\\site-packages\\backtrader\\cerebro.py:1215\u001b[0m, in \u001b[0;36mCerebro.runstrategies\u001b[1;34m(self, iterstrat, predata)\u001b[0m\n\u001b[0;32m   1213\u001b[0m \u001b[38;5;28;01mif\u001b[39;00m \u001b[38;5;28mself\u001b[39m\u001b[38;5;241m.\u001b[39m_exactbars \u001b[38;5;241m<\u001b[39m \u001b[38;5;241m1\u001b[39m:  \u001b[38;5;66;03m# datas can be full length\u001b[39;00m\n\u001b[0;32m   1214\u001b[0m     data\u001b[38;5;241m.\u001b[39mextend(size\u001b[38;5;241m=\u001b[39m\u001b[38;5;28mself\u001b[39m\u001b[38;5;241m.\u001b[39mparams\u001b[38;5;241m.\u001b[39mlookahead)\n\u001b[1;32m-> 1215\u001b[0m \u001b[43mdata\u001b[49m\u001b[38;5;241;43m.\u001b[39;49m\u001b[43m_start\u001b[49m\u001b[43m(\u001b[49m\u001b[43m)\u001b[49m\n\u001b[0;32m   1216\u001b[0m \u001b[38;5;28;01mif\u001b[39;00m \u001b[38;5;28mself\u001b[39m\u001b[38;5;241m.\u001b[39m_dopreload:\n\u001b[0;32m   1217\u001b[0m     data\u001b[38;5;241m.\u001b[39mpreload()\n",
      "File \u001b[1;32mF:\\anaconda3\\envs\\backtest\\lib\\site-packages\\backtrader\\feed.py:203\u001b[0m, in \u001b[0;36mAbstractDataBase._start\u001b[1;34m(self)\u001b[0m\n\u001b[0;32m    202\u001b[0m \u001b[38;5;28;01mdef\u001b[39;00m \u001b[38;5;21m_start\u001b[39m(\u001b[38;5;28mself\u001b[39m):\n\u001b[1;32m--> 203\u001b[0m     \u001b[38;5;28;43mself\u001b[39;49m\u001b[38;5;241;43m.\u001b[39;49m\u001b[43mstart\u001b[49m\u001b[43m(\u001b[49m\u001b[43m)\u001b[49m\n\u001b[0;32m    205\u001b[0m     \u001b[38;5;28;01mif\u001b[39;00m \u001b[38;5;129;01mnot\u001b[39;00m \u001b[38;5;28mself\u001b[39m\u001b[38;5;241m.\u001b[39m_started:\n\u001b[0;32m    206\u001b[0m         \u001b[38;5;28mself\u001b[39m\u001b[38;5;241m.\u001b[39m_start_finish()\n",
      "File \u001b[1;32mF:\\anaconda3\\envs\\backtest\\lib\\site-packages\\backtrader\\feeds\\yahoo.py:356\u001b[0m, in \u001b[0;36mYahooFinanceData.start\u001b[1;34m(self)\u001b[0m\n\u001b[0;32m    353\u001b[0m \u001b[38;5;28mself\u001b[39m\u001b[38;5;241m.\u001b[39mstart_v7()\n\u001b[0;32m    355\u001b[0m \u001b[38;5;66;03m# Prepared a \"path\" file -  CSV Parser can take over\u001b[39;00m\n\u001b[1;32m--> 356\u001b[0m \u001b[38;5;28;43msuper\u001b[39;49m\u001b[43m(\u001b[49m\u001b[43mYahooFinanceData\u001b[49m\u001b[43m,\u001b[49m\u001b[43m \u001b[49m\u001b[38;5;28;43mself\u001b[39;49m\u001b[43m)\u001b[49m\u001b[38;5;241;43m.\u001b[39;49m\u001b[43mstart\u001b[49m\u001b[43m(\u001b[49m\u001b[43m)\u001b[49m\n",
      "File \u001b[1;32mF:\\anaconda3\\envs\\backtest\\lib\\site-packages\\backtrader\\feeds\\yahoo.py:94\u001b[0m, in \u001b[0;36mYahooFinanceCSVData.start\u001b[1;34m(self)\u001b[0m\n\u001b[0;32m     93\u001b[0m \u001b[38;5;28;01mdef\u001b[39;00m \u001b[38;5;21mstart\u001b[39m(\u001b[38;5;28mself\u001b[39m):\n\u001b[1;32m---> 94\u001b[0m     \u001b[38;5;28;43msuper\u001b[39;49m\u001b[43m(\u001b[49m\u001b[43mYahooFinanceCSVData\u001b[49m\u001b[43m,\u001b[49m\u001b[43m \u001b[49m\u001b[38;5;28;43mself\u001b[39;49m\u001b[43m)\u001b[49m\u001b[38;5;241;43m.\u001b[39;49m\u001b[43mstart\u001b[49m\u001b[43m(\u001b[49m\u001b[43m)\u001b[49m\n\u001b[0;32m     96\u001b[0m     \u001b[38;5;28;01mif\u001b[39;00m \u001b[38;5;129;01mnot\u001b[39;00m \u001b[38;5;28mself\u001b[39m\u001b[38;5;241m.\u001b[39mparams\u001b[38;5;241m.\u001b[39mreverse:\n\u001b[0;32m     97\u001b[0m         \u001b[38;5;28;01mreturn\u001b[39;00m\n",
      "File \u001b[1;32mF:\\anaconda3\\envs\\backtest\\lib\\site-packages\\backtrader\\feed.py:675\u001b[0m, in \u001b[0;36mCSVDataBase.start\u001b[1;34m(self)\u001b[0m\n\u001b[0;32m    672\u001b[0m         \u001b[38;5;28mself\u001b[39m\u001b[38;5;241m.\u001b[39mf \u001b[38;5;241m=\u001b[39m \u001b[38;5;28mself\u001b[39m\u001b[38;5;241m.\u001b[39mp\u001b[38;5;241m.\u001b[39mdataname\n\u001b[0;32m    673\u001b[0m     \u001b[38;5;28;01melse\u001b[39;00m:\n\u001b[0;32m    674\u001b[0m         \u001b[38;5;66;03m# Let an exception propagate to let the caller know\u001b[39;00m\n\u001b[1;32m--> 675\u001b[0m         \u001b[38;5;28mself\u001b[39m\u001b[38;5;241m.\u001b[39mf \u001b[38;5;241m=\u001b[39m \u001b[43mio\u001b[49m\u001b[38;5;241;43m.\u001b[39;49m\u001b[43mopen\u001b[49m\u001b[43m(\u001b[49m\u001b[38;5;28;43mself\u001b[39;49m\u001b[38;5;241;43m.\u001b[39;49m\u001b[43mp\u001b[49m\u001b[38;5;241;43m.\u001b[39;49m\u001b[43mdataname\u001b[49m\u001b[43m,\u001b[49m\u001b[43m \u001b[49m\u001b[38;5;124;43m'\u001b[39;49m\u001b[38;5;124;43mr\u001b[39;49m\u001b[38;5;124;43m'\u001b[39;49m\u001b[43m)\u001b[49m\n\u001b[0;32m    677\u001b[0m \u001b[38;5;28;01mif\u001b[39;00m \u001b[38;5;28mself\u001b[39m\u001b[38;5;241m.\u001b[39mp\u001b[38;5;241m.\u001b[39mheaders:\n\u001b[0;32m    678\u001b[0m     \u001b[38;5;28mself\u001b[39m\u001b[38;5;241m.\u001b[39mf\u001b[38;5;241m.\u001b[39mreadline()  \u001b[38;5;66;03m# skip the headers\u001b[39;00m\n",
      "\u001b[1;31mFileNotFoundError\u001b[0m: [Errno 2] No such file or directory: 'SPY'"
     ]
    }
   ],
   "source": [
    "# Run Backtest for Buy and Hold\n",
    "cerebro = bt.Cerebro()\n",
    "cerebro.addstrategy(BuyAndHold)\n",
    "cerebro.adddata(data_spy)\n",
    "cerebro.run()"
   ]
  },
  {
   "cell_type": "code",
   "execution_count": null,
   "id": "987f1d30",
   "metadata": {},
   "outputs": [],
   "source": [
    "# Define 60/40 Strategy\n",
    "class SixtyForty(bt.Strategy):\n",
    "    def __init__(self):\n",
    "        self.spy = self.getdatabyname(\"SPY\")\n",
    "        self.agg = self.getdatabyname(\"AGG\")\n",
    "\n",
    "    def next(self):\n",
    "        # Rebalance the portfolio at the start of each year\n",
    "        if self.datas[0].datetime.date(0).month == 1 and self.datas[0].datetime.date(0).day == 1:\n",
    "            self.order_target_percent(self.spy, target=0.6)\n",
    "            self.order_target_percent(self.agg, target=0.4)"
   ]
  },
  {
   "cell_type": "code",
   "execution_count": null,
   "id": "8e51083c",
   "metadata": {},
   "outputs": [],
   "source": [
    "# Run Backtest for 60/40\n",
    "cerebro = bt.Cerebro()\n",
    "cerebro.addstrategy(SixtyForty)\n",
    "cerebro.adddata(data_spy, name=\"SPY\")\n",
    "cerebro.adddata(data_agg, name=\"AGG\")\n",
    "cerebro.run()"
   ]
  },
  {
   "cell_type": "code",
   "execution_count": null,
   "id": "bb78b310",
   "metadata": {},
   "outputs": [],
   "source": [
    "# Create a cerebro\n",
    "cerebro = bt.Cerebro()\n",
    "\n",
    "# Add data feeds to cerebro\n",
    "data1 = bt.feeds.PandasData(dataname=data_GLD)\n",
    "data2 = bt.feeds.PandasData(dataname=data_SPLV)\n",
    "cerebro.adddata(data1)\n",
    "cerebro.adddata(data2)\n",
    "\n",
    "# Add strategy to cerebro\n",
    "cerebro.addstrategy(SimpleGold)\n",
    "\n",
    "# Run the strategy\n",
    "results = cerebro.run()\n",
    "\n",
    "# Plot the result\n",
    "cerebro.plot()"
   ]
  },
  {
   "cell_type": "code",
   "execution_count": null,
   "id": "1ea23fc3",
   "metadata": {},
   "outputs": [],
   "source": [
    "# Add analyzers\n",
    "cerebro.addanalyzer(bt.analyzers.SharpeRatio, _name='sharpe')\n",
    "cerebro.addanalyzer(bt.analyzers.DrawDown, _name='drawdown')\n",
    "\n",
    "results = cerebro.run()\n",
    "strat = results[0]\n",
    "\n",
    "print('Final Portfolio Value: %.2f' % cerebro.broker.getvalue())\n",
    "print('Sharpe Ratio:', strat.analyzers.sharpe.get_analysis())\n",
    "print('Drawdown:', strat.analyzers.drawdown.get_analysis())"
   ]
  },
  {
   "cell_type": "code",
   "execution_count": null,
   "id": "e5c9256a",
   "metadata": {},
   "outputs": [],
   "source": []
  }
 ],
 "metadata": {
  "kernelspec": {
   "display_name": "Python [conda env:backtest] *",
   "language": "python",
   "name": "conda-env-backtest-py"
  },
  "language_info": {
   "codemirror_mode": {
    "name": "ipython",
    "version": 3
   },
   "file_extension": ".py",
   "mimetype": "text/x-python",
   "name": "python",
   "nbconvert_exporter": "python",
   "pygments_lexer": "ipython3",
   "version": "3.8.17"
  }
 },
 "nbformat": 4,
 "nbformat_minor": 5
}
