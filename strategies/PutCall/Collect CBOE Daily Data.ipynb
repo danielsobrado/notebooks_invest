{
 "cells": [
  {
   "cell_type": "markdown",
   "metadata": {},
   "source": [
    "Collect from: https://www.cboe.com/us/options/market_statistics/daily/"
   ]
  },
  {
   "cell_type": "code",
   "execution_count": 1,
   "metadata": {},
   "outputs": [],
   "source": [
    "import pandas as pd\n",
    "import datetime\n",
    "\n",
    "url = \"https://www.cboe.com/us/options/market_statistics/daily/\"\n",
    "filename_ratios = \"./data/putcall_ratios.csv\"\n",
    "filename_volumes = \"./data/putcall_volumes.csv\"\n",
    "date_format = \"%Y-%m-%d\"\n",
    "today = datetime.datetime.today().strftime(date_format)"
   ]
  },
  {
   "cell_type": "code",
   "execution_count": 2,
   "metadata": {},
   "outputs": [],
   "source": [
    "tables = pd.read_html(url)"
   ]
  },
  {
   "cell_type": "code",
   "execution_count": 3,
   "metadata": {},
   "outputs": [],
   "source": [
    "ratios_df = tables[0]\n",
    "ratios_df.reset_index(drop=False, inplace=True)\n",
    "ratios_df = ratios_df.T\n",
    "ratios_df.columns = ratios_df.iloc[1]\n",
    "ratios_df = ratios_df.drop(ratios_df.index[[0, 1]])\n",
    "ratios_df['DATE'] = today"
   ]
  },
  {
   "cell_type": "code",
   "execution_count": 4,
   "metadata": {},
   "outputs": [
    {
     "data": {
      "text/html": [
       "<div>\n",
       "<style scoped>\n",
       "    .dataframe tbody tr th:only-of-type {\n",
       "        vertical-align: middle;\n",
       "    }\n",
       "\n",
       "    .dataframe tbody tr th {\n",
       "        vertical-align: top;\n",
       "    }\n",
       "\n",
       "    .dataframe thead th {\n",
       "        text-align: right;\n",
       "    }\n",
       "</style>\n",
       "<table border=\"1\" class=\"dataframe\">\n",
       "  <thead>\n",
       "    <tr style=\"text-align: right;\">\n",
       "      <th>RATIOS</th>\n",
       "      <th>TOTAL PUT/CALL RATIO</th>\n",
       "      <th>INDEX PUT/CALL RATIO</th>\n",
       "      <th>EXCHANGE TRADED PRODUCTS PUT/CALL RATIO</th>\n",
       "      <th>EQUITY PUT/CALL RATIO</th>\n",
       "      <th>CBOE VOLATILITY INDEX (VIX) PUT/CALL RATIO</th>\n",
       "      <th>SPX + SPXW PUT/CALL RATIO</th>\n",
       "      <th>OEX PUT/CALL RATIO</th>\n",
       "      <th>MRUT PUT/CALL RATIO</th>\n",
       "      <th>DATE</th>\n",
       "    </tr>\n",
       "  </thead>\n",
       "  <tbody>\n",
       "    <tr>\n",
       "      <th>RATIOS.1</th>\n",
       "      <td>0.77</td>\n",
       "      <td>1.47</td>\n",
       "      <td>0.83</td>\n",
       "      <td>0.44</td>\n",
       "      <td>1.26</td>\n",
       "      <td>1.5</td>\n",
       "      <td>0.85</td>\n",
       "      <td>20.26</td>\n",
       "      <td>2021-04-17</td>\n",
       "    </tr>\n",
       "  </tbody>\n",
       "</table>\n",
       "</div>"
      ],
      "text/plain": [
       "RATIOS   TOTAL PUT/CALL RATIO INDEX PUT/CALL RATIO  \\\n",
       "RATIOS.1                 0.77                 1.47   \n",
       "\n",
       "RATIOS   EXCHANGE TRADED PRODUCTS PUT/CALL RATIO EQUITY PUT/CALL RATIO  \\\n",
       "RATIOS.1                                    0.83                  0.44   \n",
       "\n",
       "RATIOS   CBOE VOLATILITY INDEX (VIX) PUT/CALL RATIO SPX + SPXW PUT/CALL RATIO  \\\n",
       "RATIOS.1                                       1.26                       1.5   \n",
       "\n",
       "RATIOS   OEX PUT/CALL RATIO MRUT PUT/CALL RATIO        DATE  \n",
       "RATIOS.1               0.85               20.26  2021-04-17  "
      ]
     },
     "execution_count": 4,
     "metadata": {},
     "output_type": "execute_result"
    }
   ],
   "source": [
    "ratios_df.head()"
   ]
  },
  {
   "cell_type": "code",
   "execution_count": 5,
   "metadata": {},
   "outputs": [
    {
     "name": "stdout",
     "output_type": "stream",
     "text": [
      "Date exist in the file\n"
     ]
    }
   ],
   "source": [
    "def check_date_in_file(filename, today):\n",
    "    try:\n",
    "        file_df = pd.read_csv(filename, index_col=['DATE'], parse_dates=['DATE'])\n",
    "        if (file_df.index == today).any():\n",
    "            print ('Date exist in the file') \n",
    "            return True\n",
    "        else:\n",
    "            return False\n",
    "    except OSError as e:\n",
    "        # File doesn't exist, create a new one\n",
    "        return False\n",
    "\n",
    "if not check_date_in_file(filename_ratios, today):\n",
    "    with open(filename_ratios, 'a') as f:\n",
    "        ratios_df.to_csv(f, header=f.tell()==0, index=False)"
   ]
  },
  {
   "cell_type": "code",
   "execution_count": 6,
   "metadata": {},
   "outputs": [
    {
     "data": {
      "text/html": [
       "<div>\n",
       "<style scoped>\n",
       "    .dataframe tbody tr th:only-of-type {\n",
       "        vertical-align: middle;\n",
       "    }\n",
       "\n",
       "    .dataframe tbody tr th {\n",
       "        vertical-align: top;\n",
       "    }\n",
       "\n",
       "    .dataframe thead th {\n",
       "        text-align: right;\n",
       "    }\n",
       "</style>\n",
       "<table border=\"1\" class=\"dataframe\">\n",
       "  <thead>\n",
       "    <tr style=\"text-align: right;\">\n",
       "      <th></th>\n",
       "      <th>MEASURE</th>\n",
       "      <th>CALL</th>\n",
       "      <th>PUT</th>\n",
       "      <th>TOTAL</th>\n",
       "      <th>TYPE</th>\n",
       "      <th>DATE</th>\n",
       "    </tr>\n",
       "  </thead>\n",
       "  <tbody>\n",
       "    <tr>\n",
       "      <th>1</th>\n",
       "      <td>VOLUME</td>\n",
       "      <td>3743712</td>\n",
       "      <td>2866828</td>\n",
       "      <td>6610540</td>\n",
       "      <td>SUM OF ALL PRODUCTS</td>\n",
       "      <td>2021-04-17</td>\n",
       "    </tr>\n",
       "    <tr>\n",
       "      <th>2</th>\n",
       "      <td>OPEN INTEREST</td>\n",
       "      <td>243604627</td>\n",
       "      <td>187098520</td>\n",
       "      <td>430703147</td>\n",
       "      <td>SUM OF ALL PRODUCTS</td>\n",
       "      <td>2021-04-17</td>\n",
       "    </tr>\n",
       "  </tbody>\n",
       "</table>\n",
       "</div>"
      ],
      "text/plain": [
       "         MEASURE       CALL        PUT      TOTAL                 TYPE  \\\n",
       "1         VOLUME    3743712    2866828    6610540  SUM OF ALL PRODUCTS   \n",
       "2  OPEN INTEREST  243604627  187098520  430703147  SUM OF ALL PRODUCTS   \n",
       "\n",
       "         DATE  \n",
       "1  2021-04-17  \n",
       "2  2021-04-17  "
      ]
     },
     "execution_count": 6,
     "metadata": {},
     "output_type": "execute_result"
    }
   ],
   "source": [
    "volume1_df = tables[1]\n",
    "volume1_df['TYPE'] = 'SUM OF ALL PRODUCTS'\n",
    "volume1_df.reset_index(drop=True, inplace=True)\n",
    "volume1_df['DATE'] = today\n",
    "volume1_df.columns = ['MEASURE','CALL','PUT','TOTAL','TYPE','DATE']\n",
    "volume1_df = volume1_df.drop(volume1_df.index[[0]])\n",
    "volume1_df"
   ]
  },
  {
   "cell_type": "code",
   "execution_count": 7,
   "metadata": {},
   "outputs": [
    {
     "name": "stdout",
     "output_type": "stream",
     "text": [
      "Processing: 1 Name: INDEX OPTIONS\n",
      "Processing: 2 Name: EXCHANGE TRADED PRODUCTS\n",
      "Processing: 3 Name: EQUITY OPTIONS\n",
      "Processing: 4 Name: CBOE VOLATILITY INDEX (VIX)\n",
      "Processing: 5 Name: SPX + SPXW\n",
      "Processing: 6 Name: OEX\n",
      "Processing: 7 Name: MRUT\n"
     ]
    }
   ],
   "source": [
    "volume_columns = ['MEASURE','CALL','PUT','TOTAL','TYPE','DATE']\n",
    "volume_df = pd.DataFrame(columns=volume_columns)\n",
    "type_data =['SUM OF ALL PRODUCTS', 'INDEX OPTIONS', 'EXCHANGE TRADED PRODUCTS', 'EQUITY OPTIONS', 'CBOE VOLATILITY INDEX (VIX)', 'SPX + SPXW', 'OEX', 'MRUT']\n",
    "def get_volume_tables(tables, type_data, df):\n",
    "    for table_num in range(1, len(type_data)):\n",
    "        print(\"Processing: \"+str(table_num)+\" Name: \"+type_data[table_num])\n",
    "        volume_table_df = tables[table_num]\n",
    "        volume_table_df['TYPE'] = type_data[table_num]\n",
    "        volume_table_df.reset_index(drop=True, inplace=True)\n",
    "        volume_table_df['DATE'] = today\n",
    "        volume_table_df.columns = volume_columns\n",
    "        volume_table_df = volume_table_df.drop(volume_table_df.index[[0]])\n",
    "        df = pd.concat([df, volume_table_df])\n",
    "    return df\n",
    "volume_df = get_volume_tables(tables, type_data, volume_df)"
   ]
  },
  {
   "cell_type": "code",
   "execution_count": 8,
   "metadata": {},
   "outputs": [
    {
     "name": "stdout",
     "output_type": "stream",
     "text": [
      "Date exist in the file\n"
     ]
    }
   ],
   "source": [
    "if not check_date_in_file(filename_volumes, today):\n",
    "    with open(filename_volumes, 'a') as f:\n",
    "        volume_df.to_csv(f, header=f.tell()==0, index=False)"
   ]
  },
  {
   "cell_type": "code",
   "execution_count": null,
   "metadata": {},
   "outputs": [],
   "source": []
  }
 ],
 "metadata": {
  "kernelspec": {
   "display_name": "Python 3",
   "language": "python",
   "name": "python3"
  },
  "language_info": {
   "codemirror_mode": {
    "name": "ipython",
    "version": 3
   },
   "file_extension": ".py",
   "mimetype": "text/x-python",
   "name": "python",
   "nbconvert_exporter": "python",
   "pygments_lexer": "ipython3",
   "version": "3.8.5"
  }
 },
 "nbformat": 4,
 "nbformat_minor": 4
}
