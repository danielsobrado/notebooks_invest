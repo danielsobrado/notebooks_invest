{
 "cells": [
  {
   "cell_type": "markdown",
   "metadata": {},
   "source": [
    "Collect from: https://www.cboe.com/us/options/market_statistics/daily/\n",
    "\n",
    "Install:\n",
    "pip install html-table-parser-python3"
   ]
  },
  {
   "cell_type": "code",
   "execution_count": 4,
   "metadata": {},
   "outputs": [],
   "source": [
    "import urllib.request\n",
    "from pprint import pprint\n",
    "from html_table_parser.parser import HTMLTableParser"
   ]
  },
  {
   "cell_type": "code",
   "execution_count": 5,
   "metadata": {},
   "outputs": [],
   "source": [
    "def url_get_contents(url):\n",
    "    \"\"\" Opens a website and read its binary contents (HTTP Response Body) \"\"\"\n",
    "    req = urllib.request.Request(url=url)\n",
    "    f = urllib.request.urlopen(req)\n",
    "    return f.read()"
   ]
  },
  {
   "cell_type": "code",
   "execution_count": 6,
   "metadata": {},
   "outputs": [
    {
     "name": "stdout",
     "output_type": "stream",
     "text": [
      "[[['RATIOS'],\n",
      "  ['TOTAL PUT/CALL RATIO', '0.76'],\n",
      "  ['INDEX PUT/CALL RATIO', '1.37'],\n",
      "  ['EXCHANGE TRADED PRODUCTS PUT/CALL RATIO', '0.90'],\n",
      "  ['EQUITY PUT/CALL RATIO', '0.48'],\n",
      "  ['CBOE VOLATILITY INDEX (VIX) PUT/CALL RATIO', '1.40'],\n",
      "  ['SPX + SPXW PUT/CALL RATIO', '1.38'],\n",
      "  ['OEX PUT/CALL RATIO', '6.87'],\n",
      "  ['MRUT PUT/CALL RATIO', '4.17']],\n",
      " [['SUM OF ALL PRODUCTS'],\n",
      "  ['', 'CALL', 'PUT', 'TOTAL'],\n",
      "  ['VOLUME', '3,258,939', '2,487,986', '5,746,925'],\n",
      "  ['OPEN INTEREST', '239,383,419', '183,566,207', '422,949,626']],\n",
      " [['INDEX OPTIONS'],\n",
      "  ['', 'CALL', 'PUT', 'TOTAL'],\n",
      "  ['VOLUME', '788,784', '1,078,533', '1,867,317'],\n",
      "  ['OPEN INTEREST', '10,907,134', '14,157,488', '25,064,622']],\n",
      " [['EXCHANGE TRADED PRODUCTS'],\n",
      "  ['', 'CALL', 'PUT', 'TOTAL'],\n",
      "  ['VOLUME', '553,796', '496,737', '1,050,533'],\n",
      "  ['OPEN INTEREST', '46,955,941', '59,204,977', '106,160,918']],\n",
      " [['EQUITY OPTIONS'],\n",
      "  ['', 'CALL', 'PUT', 'TOTAL'],\n",
      "  ['VOLUME', '1,916,359', '912,716', '2,829,075'],\n",
      "  ['OPEN INTEREST', '181,520,344', '110,203,742', '291,724,086']],\n",
      " [['CBOE VOLATILITY INDEX (VIX)'],\n",
      "  ['', 'CALL', 'PUT', 'TOTAL'],\n",
      "  ['VOLUME', '243,025', '341,256', '584,281'],\n",
      "  ['OPEN INTEREST', '5,627,235', '4,034,424', '9,661,659']],\n",
      " [['SPX + SPXW'],\n",
      "  ['', 'CALL', 'PUT', 'TOTAL'],\n",
      "  ['VOLUME', '517,681', '713,325', '1,231,006'],\n",
      "  ['OPEN INTEREST', '4,018,617', '8,630,499', '12,649,116']],\n",
      " [['OEX'],\n",
      "  ['', 'CALL', 'PUT', 'TOTAL'],\n",
      "  ['VOLUME', '30', '206', '236'],\n",
      "  ['OPEN INTEREST', '711', '1,468', '2,179']],\n",
      " [['MRUT'],\n",
      "  ['', 'CALL', 'PUT', 'TOTAL'],\n",
      "  ['VOLUME', '18', '75', '93'],\n",
      "  ['OPEN INTEREST', '615', '4,972', '5,587']]]\n"
     ]
    }
   ],
   "source": [
    "url = 'https://www.cboe.com/us/options/market_statistics/daily/'\n",
    "xhtml = url_get_contents(url).decode('utf-8')\n",
    "\n",
    "p = HTMLTableParser()\n",
    "p.feed(xhtml)\n",
    "pprint(p.tables)"
   ]
  },
  {
   "cell_type": "code",
   "execution_count": null,
   "metadata": {},
   "outputs": [],
   "source": []
  }
 ],
 "metadata": {
  "kernelspec": {
   "display_name": "Python 3",
   "language": "python",
   "name": "python3"
  },
  "language_info": {
   "codemirror_mode": {
    "name": "ipython",
    "version": 3
   },
   "file_extension": ".py",
   "mimetype": "text/x-python",
   "name": "python",
   "nbconvert_exporter": "python",
   "pygments_lexer": "ipython3",
   "version": "3.8.5"
  }
 },
 "nbformat": 4,
 "nbformat_minor": 4
}
