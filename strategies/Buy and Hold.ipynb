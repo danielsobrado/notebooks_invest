{
 "cells": [
  {
   "cell_type": "code",
   "execution_count": 1,
   "metadata": {},
   "outputs": [],
   "source": [
    "import datetime  # For datetime objects\n",
    "import os.path  # To manage paths\n",
    "from datetime import date, datetime, timedelta\n",
    "\n",
    "# Import the backtrader platform\n",
    "import backtrader as bt\n",
    "import backtrader.analyzers as btanalyzers\n",
    "import backtrader.feeds as btfeeds\n",
    "import backtrader.strategies as btstrats\n"
   ]
  },
  {
   "cell_type": "code",
   "execution_count": 2,
   "metadata": {},
   "outputs": [],
   "source": [
    "class BuyAndHold_1(bt.Strategy):\n",
    "    def start(self):\n",
    "        self.val_start = self.broker.get_cash()  # keep the starting cash\n",
    "\n",
    "    def nextstart(self):\n",
    "        # Buy all the available cash\n",
    "        size = int(self.broker.get_cash() / self.data)\n",
    "        self.buy(size=size)\n",
    "\n",
    "    def stop(self):\n",
    "        # calculate the actual returns\n",
    "        self.roi = (self.broker.get_value() / self.val_start) - 1.0\n",
    "        print('ROI:        {:.2f}%'.format(100.0 * self.roi))"
   ]
  },
  {
   "cell_type": "code",
   "execution_count": 3,
   "metadata": {},
   "outputs": [],
   "source": [
    "cerebro = bt.Cerebro()\n",
    "\n",
    "# Set our desired cash start\n",
    "cerebro.broker.setcash(1000000.0)\n",
    "\n",
    "idx = cerebro.addstrategy(BuyAndHold_1)\n",
    "cerebro.addsizer(bt.sizers.AllInSizer)\n"
   ]
  },
  {
   "cell_type": "code",
   "execution_count": 4,
   "metadata": {},
   "outputs": [],
   "source": [
    "# Create a Data Feed\n",
    "PATH = \"../data/investpy/data/index/\"\n",
    "data = bt.feeds.GenericCSVData(\n",
    "    dataname=PATH+'S&P_500.csv',\n",
    "\n",
    "    fromdate=datetime(2000, 1, 1),\n",
    "    todate=datetime(2020, 12, 31),\n",
    "\n",
    "    nullvalue=0.0,\n",
    "\n",
    "    dtformat=('%Y-%m-%d'),\n",
    "\n",
    "    datetime=0,\n",
    "    high=1,\n",
    "    low=2,\n",
    "    open=3,\n",
    "    close=4,\n",
    "    volume=5,\n",
    "    openinterest=-1\n",
    ")"
   ]
  },
  {
   "cell_type": "code",
   "execution_count": 5,
   "metadata": {},
   "outputs": [
    {
     "name": "stdout",
     "output_type": "stream",
     "text": [
      "Starting Portfolio Value: 1000000.00\n",
      "ROI:        193.25%\n",
      "Final Portfolio Value: 2932465.90\n",
      "PnL: 1932465.90\n",
      "Max Drawdown: 56.65%\n",
      "CAGR: 7.45%\n",
      "Sharpe: 0.489\n"
     ]
    }
   ],
   "source": [
    "cerebro.adddata(data)\n",
    "\n",
    "# Add Analyzers\n",
    "cerebro.addanalyzer(bt.analyzers.PyFolio, _name='PyFolio')\n",
    "cerebro.addanalyzer(bt.analyzers.TimeReturn, timeframe=bt.TimeFrame.Years)\n",
    "cerebro.addanalyzer(btanalyzers.SharpeRatio, _name='sharperatio')\n",
    "cerebro.addanalyzer(btanalyzers.AnnualReturn, _name='annual')\n",
    "cerebro.addanalyzer(bt.analyzers.Returns)\n",
    "cerebro.addanalyzer(btanalyzers.DrawDown)\n",
    "\n",
    "start_portfolio_value = cerebro.broker.getvalue()\n",
    "print('Starting Portfolio Value: %.2f' % start_portfolio_value)\n",
    "\n",
    "results = cerebro.run(maxcpu=4)\n",
    "strat = results[0]\n",
    "portfolio_stats = strat.analyzers.getbyname('PyFolio')\n",
    "returns, positions, transactions, gross_lev = portfolio_stats.get_pf_items()\n",
    "returns.index = returns.index.tz_convert(None)\n",
    "\n",
    "end_portfolio_value = cerebro.broker.getvalue()\n",
    "print('Final Portfolio Value: %.2f' % end_portfolio_value)\n",
    "pnl = end_portfolio_value - start_portfolio_value\n",
    "print('PnL: %.2f' % pnl)\n",
    "\n",
    "# If no name has been specified, the name is the class name lowercased\n",
    "tret_analyzer = strat.analyzers.getbyname('timereturn')\n",
    "maxdrawdown = strat.analyzers.drawdown.get_analysis()['max']['drawdown']\n",
    "cagr = strat.analyzers.returns.get_analysis()['rnorm100']\n",
    "sharpe = strat.analyzers.sharperatio.get_analysis()['sharperatio']\n",
    "print(f\"Max Drawdown: {maxdrawdown:.2f}%\\nCAGR: {cagr:.2f}%\\nSharpe: {sharpe:.3f}\")\n"
   ]
  },
  {
   "cell_type": "markdown",
   "metadata": {},
   "source": [
    "cerebro.plot()"
   ]
  },
  {
   "cell_type": "markdown",
   "metadata": {},
   "source": [
    "#### Increment the portfolio with an amount of cash every month"
   ]
  },
  {
   "cell_type": "code",
   "execution_count": 6,
   "metadata": {},
   "outputs": [],
   "source": [
    "class BuyAndHold_More(bt.Strategy):\n",
    "    params = dict(\n",
    "        monthly_cash=10000.0,  # amount of cash to buy every month\n",
    "    )\n",
    "\n",
    "    def start(self):\n",
    "        self.cash_start = self.broker.get_cash()\n",
    "        self.val_start = 10000.0\n",
    "\n",
    "        # Add a timer which will be called on the 1st trading day of the month\n",
    "        self.add_timer(\n",
    "            bt.timer.SESSION_END,  # when it will be called\n",
    "            monthdays=[1],  # called on the 1st day of the month\n",
    "            monthcarry=True,  # called on the 2nd day if the 1st is holiday\n",
    "        )\n",
    "\n",
    "    def notify_timer(self, timer, when, *args, **kwargs):\n",
    "        # Add the influx of monthly cash to the broker\n",
    "        self.broker.add_cash(self.p.monthly_cash)\n",
    "\n",
    "        # buy available cash\n",
    "        target_value = self.broker.get_value() + self.p.monthly_cash\n",
    "        self.order_target_value(target=target_value)\n",
    "\n",
    "    def stop(self):\n",
    "        # calculate the actual returns\n",
    "        self.roi = (self.broker.get_value() / self.cash_start) - 1.0\n",
    "        print('ROI:        {:.2f}%'.format(self.roi))"
   ]
  },
  {
   "cell_type": "code",
   "execution_count": 7,
   "metadata": {},
   "outputs": [],
   "source": [
    "cerebro = bt.Cerebro()\n",
    "\n",
    "idx = cerebro.addstrategy(BuyAndHold_More)\n",
    "cerebro.addsizer(bt.sizers.AllInSizer)"
   ]
  },
  {
   "cell_type": "code",
   "execution_count": 8,
   "metadata": {},
   "outputs": [
    {
     "name": "stdout",
     "output_type": "stream",
     "text": [
      "Starting Portfolio Value: 10000.00\n",
      "ROI:        420.49%\n",
      "Final Portfolio Value: 4214931.70\n",
      "PnL: 4204931.70\n",
      "Max Drawdown: 36.31\n"
     ]
    }
   ],
   "source": [
    "cerebro.adddata(data)\n",
    "\n",
    "# Add Analyzers\n",
    "cerebro.addanalyzer(bt.analyzers.PyFolio, _name='PyFolio')\n",
    "cerebro.addanalyzer(bt.analyzers.TimeReturn, timeframe=bt.TimeFrame.Years)\n",
    "cerebro.addanalyzer(btanalyzers.SharpeRatio, _name='sharperatio')\n",
    "cerebro.addanalyzer(btanalyzers.AnnualReturn, _name='annual')\n",
    "cerebro.addanalyzer(bt.analyzers.Returns)\n",
    "cerebro.addanalyzer(btanalyzers.DrawDown)\n",
    "\n",
    "start_portfolio_value = cerebro.broker.getvalue()\n",
    "print('Starting Portfolio Value: %.2f' % start_portfolio_value)\n",
    "\n",
    "results = cerebro.run(maxcpu=4)\n",
    "strat = results[0]\n",
    "portfolio_stats = strat.analyzers.getbyname('PyFolio')\n",
    "returns, positions, transactions, gross_lev = portfolio_stats.get_pf_items()\n",
    "returns.index = returns.index.tz_convert(None)\n",
    "\n",
    "end_portfolio_value = cerebro.broker.getvalue()\n",
    "print('Final Portfolio Value: %.2f' % end_portfolio_value)\n",
    "pnl = end_portfolio_value - start_portfolio_value\n",
    "print('PnL: %.2f' % pnl)\n",
    "\n",
    "# If no name has been specified, the name is the class name lowercased\n",
    "tret_analyzer = strat.analyzers.getbyname('timereturn')\n",
    "maxdrawdown = strat.analyzers.drawdown.get_analysis()['max']['drawdown']\n",
    "print(f\"Max Drawdown: {maxdrawdown:.2f}\")\n"
   ]
  },
  {
   "cell_type": "code",
   "execution_count": null,
   "metadata": {},
   "outputs": [],
   "source": []
  }
 ],
 "metadata": {
  "kernelspec": {
   "display_name": "Python 3",
   "language": "python",
   "name": "python3"
  },
  "language_info": {
   "codemirror_mode": {
    "name": "ipython",
    "version": 3
   },
   "file_extension": ".py",
   "mimetype": "text/x-python",
   "name": "python",
   "nbconvert_exporter": "python",
   "pygments_lexer": "ipython3",
   "version": "3.7.9"
  }
 },
 "nbformat": 4,
 "nbformat_minor": 4
}
