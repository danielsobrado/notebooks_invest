{
 "cells": [
  {
   "cell_type": "code",
   "execution_count": 1,
   "metadata": {},
   "outputs": [],
   "source": [
    "import numpy as np\n",
    "import pandas as pd\n",
    "import matplotlib.pyplot as plt\n",
    "from datetime import datetime\n",
    "import backtrader as bt\n",
    "from backtrader.sizers import PercentSizer\n",
    "import backtrader.analyzers as btanalyzers\n",
    "\n",
    "from termcolor import colored\n",
    "\n",
    "from base import StrategyBase\n",
    "import util\n",
    "\n",
    "%matplotlib inline\n",
    "%matplotlib widget"
   ]
  },
  {
   "cell_type": "code",
   "execution_count": 2,
   "metadata": {},
   "outputs": [
    {
     "name": "stdout",
     "output_type": "stream",
     "text": [
      "../data/stooq/data/daily/de/xetra stocks/1/bayn.csv\n"
     ]
    }
   ],
   "source": [
    "PATH = r'../data/stooq/data/daily/'\n",
    "MARKET = r'de/xetra stocks'\n",
    "TICKER = 'bayn'\n",
    "FILE_CSV = PATH+MARKET+\"/1/\"+TICKER+\".csv\"\n",
    "\n",
    "print(FILE_CSV)"
   ]
  },
  {
   "cell_type": "code",
   "execution_count": 3,
   "metadata": {},
   "outputs": [],
   "source": [
    "class FullMoney(PercentSizer):\n",
    "    params = (\n",
    "        ('percents', 99),\n",
    "    )"
   ]
  },
  {
   "cell_type": "code",
   "execution_count": 4,
   "metadata": {},
   "outputs": [],
   "source": [
    "class BuyAndHold_1(StrategyBase):\n",
    "    \n",
    "    def __init__(self):\n",
    "        StrategyBase.__init__(self)\n",
    "        self.log(\"Using BuyAndHold_1 strategy\")\n",
    "\n",
    "        self.profit = 0\n",
    "        \n",
    "    def nextstart(self):\n",
    "        self.buy()\n",
    "\n",
    "    def stop(self):\n",
    "        self.sell()"
   ]
  },
  {
   "cell_type": "code",
   "execution_count": 5,
   "metadata": {},
   "outputs": [
    {
     "name": "stdout",
     "output_type": "stream",
     "text": [
      "Starting Portfolio Value: 100000.00\n",
      "[09-04-21 15:44] Base strategy initialized\n",
      "[09-04-21 15:44] Using BuyAndHold_1 strategy\n",
      "[24-09-09 23:59] BUY EXECUTED, Price: 30.91, Cost: 98411.72, Comm 98.41\n",
      "Final Portfolio Value: 171870.64\n",
      "Profit 71.871%\n",
      "Max Drawdown: 64.88%\n",
      "CAGR: 4.78%\n",
      "Sharpe: 0.255\n"
     ]
    }
   ],
   "source": [
    "#Get Data\n",
    "data = bt.feeds.GenericCSVData(dataname=FILE_CSV,params = (\n",
    "        ('nullvalue', float('NaN')),\n",
    "        ('dtformat', '%Y%m%d'),\n",
    "        ('timeframe', bt.TimeFrame.Days),\n",
    "        ('fromdate', datetime(2000, 1, 1)),\n",
    "        ('todate', datetime(2000, 12, 31)),\n",
    "        ('compression', 1),\n",
    "        ('datetime', 0),\n",
    "        ('time', -1),\n",
    "        ('open', 1),\n",
    "        ('high', 2),\n",
    "        ('low', 3,\n",
    "        ('close', 4),\n",
    "        ('volume', 5)\n",
    "        )))\n",
    "\n",
    "cerebro = bt.Cerebro(quicknotify=True)\n",
    "\n",
    "cerebro.adddata(data)\n",
    "\n",
    "broker = cerebro.getbroker()\n",
    "broker.setcommission(commission=0.001)  # Simulating exchange fee\n",
    "broker.setcash(100000.0)\n",
    "cerebro.addsizer(FullMoney)\n",
    "\n",
    "# Analyzers to evaluate trades and strategies\n",
    "# SQN = Average( profit / risk ) / StdDev( profit / risk ) x SquareRoot( number of trades )\n",
    "cerebro.addanalyzer(bt.analyzers.TradeAnalyzer, _name=\"ta\")\n",
    "cerebro.addanalyzer(bt.analyzers.SQN, _name=\"sqn\")\n",
    "cerebro.addanalyzer(bt.analyzers.PyFolio, _name='PyFolio')\n",
    "cerebro.addanalyzer(bt.analyzers.TimeReturn, timeframe=bt.TimeFrame.Years)\n",
    "cerebro.addanalyzer(btanalyzers.SharpeRatio, _name='sharperatio')\n",
    "cerebro.addanalyzer(btanalyzers.AnnualReturn, _name='annual')\n",
    "cerebro.addanalyzer(bt.analyzers.Returns)\n",
    "cerebro.addanalyzer(btanalyzers.DrawDown)\n",
    "\n",
    "# Include Strategy\n",
    "cerebro.addstrategy(BuyAndHold_1)\n",
    "\n",
    "initial_value = cerebro.broker.getvalue()\n",
    "print('Starting Portfolio Value: %.2f' % initial_value)\n",
    "results = cerebro.run()\n",
    "strat = results[0]\n",
    "\n",
    "portfolio_stats = strat.analyzers.getbyname('PyFolio')\n",
    "returns, positions, transactions, gross_lev = portfolio_stats.get_pf_items()\n",
    "returns.index = returns.index.tz_convert(None)\n",
    "\n",
    "# Print analyzers - results\n",
    "final_value = cerebro.broker.getvalue()\n",
    "print('Final Portfolio Value: %.2f' % final_value)\n",
    "print('Profit %.3f%%' % ((final_value - initial_value) / initial_value * 100))\n",
    "\n",
    "# If no name has been specified, the name is the class name lowercased\n",
    "tret_analyzer = strat.analyzers.getbyname('timereturn')\n",
    "maxdrawdown = strat.analyzers.drawdown.get_analysis()['max']['drawdown']\n",
    "cagr = strat.analyzers.returns.get_analysis()['rnorm100']\n",
    "sharpe = strat.analyzers.sharperatio.get_analysis()['sharperatio']\n",
    "print(f\"Max Drawdown: {maxdrawdown:.2f}%\\nCAGR: {cagr:.2f}%\\nSharpe: {sharpe:.3f}\")"
   ]
  },
  {
   "cell_type": "code",
   "execution_count": 7,
   "metadata": {},
   "outputs": [
    {
     "data": {
      "application/vnd.jupyter.widget-view+json": {
       "model_id": "e17eb8dd8bea48f1b811b8c5e44487d1",
       "version_major": 2,
       "version_minor": 0
      },
      "text/plain": [
       "Canvas(toolbar=Toolbar(toolitems=[('Home', 'Reset original view', 'home', 'home'), ('Back', 'Back to previous …"
      ]
     },
     "metadata": {},
     "output_type": "display_data"
    },
    {
     "data": {
      "text/plain": [
       "[[<Figure size 432x288 with 4 Axes>]]"
      ]
     },
     "execution_count": 7,
     "metadata": {},
     "output_type": "execute_result"
    }
   ],
   "source": [
    "import matplotlib\n",
    "matplotlib.use('agg')\n",
    "\n",
    "%matplotlib inline\n",
    "%matplotlib widget\n",
    "\n",
    "cerebro.plot(iplot= False)"
   ]
  },
  {
   "cell_type": "markdown",
   "metadata": {},
   "source": [
    "#### Increment the portfolio with an amount of cash every month"
   ]
  },
  {
   "cell_type": "code",
   "execution_count": 8,
   "metadata": {},
   "outputs": [],
   "source": [
    "class BuyAndHold_More(bt.Strategy):\n",
    "    params = dict(\n",
    "        monthly_cash=10000.0,  # amount of cash to buy every month\n",
    "    )\n",
    "\n",
    "    def start(self):\n",
    "        self.cash_start = self.broker.get_cash()\n",
    "        self.val_start = 10000.0\n",
    "\n",
    "        # Add a timer which will be called on the 1st trading day of the month\n",
    "        self.add_timer(\n",
    "            bt.timer.SESSION_END,  # when it will be called\n",
    "            monthdays=[1],  # called on the 1st day of the month\n",
    "            monthcarry=True,  # called on the 2nd day if the 1st is holiday\n",
    "        )\n",
    "\n",
    "    def notify_timer(self, timer, when, *args, **kwargs):\n",
    "        # Add the influx of monthly cash to the broker\n",
    "        self.broker.add_cash(self.p.monthly_cash)\n",
    "\n",
    "        # buy available cash\n",
    "        target_value = self.broker.get_value() + self.p.monthly_cash\n",
    "        self.order_target_value(target=target_value)\n",
    "\n",
    "    def stop(self):\n",
    "        # calculate the actual returns\n",
    "        self.roi = (self.broker.get_value() / self.cash_start) - 1.0\n",
    "        print('ROI:        {:.2f}%'.format(self.roi))"
   ]
  },
  {
   "cell_type": "code",
   "execution_count": 9,
   "metadata": {},
   "outputs": [],
   "source": [
    "cerebro = bt.Cerebro()\n",
    "\n",
    "idx = cerebro.addstrategy(BuyAndHold_More)\n",
    "cerebro.addsizer(bt.sizers.AllInSizer)"
   ]
  },
  {
   "cell_type": "code",
   "execution_count": 10,
   "metadata": {},
   "outputs": [
    {
     "name": "stdout",
     "output_type": "stream",
     "text": [
      "Starting Portfolio Value: 10000.00\n",
      "ROI:        135.60%\n",
      "Final Portfolio Value: 1366022.00\n",
      "PnL: 1356022.00\n",
      "Max Drawdown: 49.22\n"
     ]
    }
   ],
   "source": [
    "cerebro.adddata(data)\n",
    "\n",
    "# Add Analyzers\n",
    "cerebro.addanalyzer(bt.analyzers.PyFolio, _name='PyFolio')\n",
    "cerebro.addanalyzer(bt.analyzers.TimeReturn, timeframe=bt.TimeFrame.Years)\n",
    "cerebro.addanalyzer(btanalyzers.SharpeRatio, _name='sharperatio')\n",
    "cerebro.addanalyzer(btanalyzers.AnnualReturn, _name='annual')\n",
    "cerebro.addanalyzer(bt.analyzers.Returns)\n",
    "cerebro.addanalyzer(btanalyzers.DrawDown)\n",
    "\n",
    "start_portfolio_value = cerebro.broker.getvalue()\n",
    "print('Starting Portfolio Value: %.2f' % start_portfolio_value)\n",
    "\n",
    "results = cerebro.run(maxcpu=4)\n",
    "strat = results[0]\n",
    "portfolio_stats = strat.analyzers.getbyname('PyFolio')\n",
    "returns, positions, transactions, gross_lev = portfolio_stats.get_pf_items()\n",
    "returns.index = returns.index.tz_convert(None)\n",
    "\n",
    "end_portfolio_value = cerebro.broker.getvalue()\n",
    "print('Final Portfolio Value: %.2f' % end_portfolio_value)\n",
    "pnl = end_portfolio_value - start_portfolio_value\n",
    "print('PnL: %.2f' % pnl)\n",
    "\n",
    "# If no name has been specified, the name is the class name lowercased\n",
    "tret_analyzer = strat.analyzers.getbyname('timereturn')\n",
    "maxdrawdown = strat.analyzers.drawdown.get_analysis()['max']['drawdown']\n",
    "print(f\"Max Drawdown: {maxdrawdown:.2f}\")\n"
   ]
  },
  {
   "cell_type": "code",
   "execution_count": 12,
   "metadata": {},
   "outputs": [],
   "source": [
    "# Create a Data Feed from investpy\n",
    "PATH = \"../data/investpy/data/index/\"\n",
    "data_sp = bt.feeds.GenericCSVData(\n",
    "    dataname=PATH+'S&P_500.csv',\n",
    "\n",
    "    fromdate=datetime(2000, 1, 1),\n",
    "    todate=datetime(2020, 12, 31),\n",
    "\n",
    "    nullvalue=0.0,\n",
    "\n",
    "    dtformat=('%Y-%m-%d'),\n",
    "\n",
    "    datetime=0,\n",
    "    high=1,\n",
    "    low=2,\n",
    "    open=3,\n",
    "    close=4,\n",
    "    volume=5,\n",
    "#     openinterest=-1\n",
    ")"
   ]
  },
  {
   "cell_type": "code",
   "execution_count": null,
   "metadata": {},
   "outputs": [],
   "source": []
  }
 ],
 "metadata": {
  "kernelspec": {
   "display_name": "Python 3",
   "language": "python",
   "name": "python3"
  },
  "language_info": {
   "codemirror_mode": {
    "name": "ipython",
    "version": 3
   },
   "file_extension": ".py",
   "mimetype": "text/x-python",
   "name": "python",
   "nbconvert_exporter": "python",
   "pygments_lexer": "ipython3",
   "version": "3.8.5"
  }
 },
 "nbformat": 4,
 "nbformat_minor": 4
}
