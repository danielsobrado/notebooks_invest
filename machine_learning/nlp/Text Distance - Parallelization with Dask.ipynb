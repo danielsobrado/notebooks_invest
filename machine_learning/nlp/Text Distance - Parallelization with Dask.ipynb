{
 "cells": [
  {
   "cell_type": "code",
   "execution_count": 1,
   "metadata": {},
   "outputs": [],
   "source": [
    "import pandas as pd\n",
    "import numpy as np\n",
    "import logging\n",
    "import time\n",
    "\n",
    "import dask.dataframe as dd\n",
    "import dask.multiprocessing\n",
    "import dask.threaded\n",
    "\n",
    "from fuzzywuzzy import fuzz\n",
    "from fuzzywuzzy import process\n",
    "\n",
    "np.random.seed(0)\n",
    "\n",
    "from dask.distributed import Client, progress\n",
    "client = Client(threads_per_worker=4, n_workers=1)\n",
    "client\n",
    "\n",
    "import dask\n",
    "lazy_results = []"
   ]
  },
  {
   "cell_type": "markdown",
   "metadata": {},
   "source": [
    "#### Load 1000 randomly generated names and surnames"
   ]
  },
  {
   "cell_type": "code",
   "execution_count": 2,
   "metadata": {},
   "outputs": [],
   "source": [
    "csv1 = pd.read_csv(r\"./data/MOCK_DATA.csv\")"
   ]
  },
  {
   "cell_type": "code",
   "execution_count": 3,
   "metadata": {},
   "outputs": [
    {
     "data": {
      "text/plain": [
       "(28, 3)"
      ]
     },
     "execution_count": 3,
     "metadata": {},
     "output_type": "execute_result"
    }
   ],
   "source": [
    "csv1.shape"
   ]
  },
  {
   "cell_type": "code",
   "execution_count": 4,
   "metadata": {},
   "outputs": [
    {
     "data": {
      "text/html": [
       "<div>\n",
       "<style scoped>\n",
       "    .dataframe tbody tr th:only-of-type {\n",
       "        vertical-align: middle;\n",
       "    }\n",
       "\n",
       "    .dataframe tbody tr th {\n",
       "        vertical-align: top;\n",
       "    }\n",
       "\n",
       "    .dataframe thead th {\n",
       "        text-align: right;\n",
       "    }\n",
       "</style>\n",
       "<table border=\"1\" class=\"dataframe\">\n",
       "  <thead>\n",
       "    <tr style=\"text-align: right;\">\n",
       "      <th></th>\n",
       "      <th>id</th>\n",
       "      <th>full name</th>\n",
       "      <th>email</th>\n",
       "    </tr>\n",
       "  </thead>\n",
       "  <tbody>\n",
       "    <tr>\n",
       "      <th>0</th>\n",
       "      <td>1</td>\n",
       "      <td>Mirelle Spire Kirtley</td>\n",
       "      <td>mkirtley0@geocities.jp</td>\n",
       "    </tr>\n",
       "    <tr>\n",
       "      <th>1</th>\n",
       "      <td>2</td>\n",
       "      <td>Detelina R. Labed</td>\n",
       "      <td>dlenz1@mapquest.com</td>\n",
       "    </tr>\n",
       "    <tr>\n",
       "      <th>2</th>\n",
       "      <td>3</td>\n",
       "      <td>Bryanty Wolford</td>\n",
       "      <td>bwolford2@ucoz.ru</td>\n",
       "    </tr>\n",
       "    <tr>\n",
       "      <th>3</th>\n",
       "      <td>4</td>\n",
       "      <td>Elijah von Hagt</td>\n",
       "      <td>evon3@who.int</td>\n",
       "    </tr>\n",
       "    <tr>\n",
       "      <th>4</th>\n",
       "      <td>5</td>\n",
       "      <td>Mathe Sivier</td>\n",
       "      <td>msivier4@google.ru</td>\n",
       "    </tr>\n",
       "  </tbody>\n",
       "</table>\n",
       "</div>"
      ],
      "text/plain": [
       "   id              full name                   email\n",
       "0   1  Mirelle Spire Kirtley  mkirtley0@geocities.jp\n",
       "1   2      Detelina R. Labed     dlenz1@mapquest.com\n",
       "2   3        Bryanty Wolford       bwolford2@ucoz.ru\n",
       "3   4        Elijah von Hagt           evon3@who.int\n",
       "4   5           Mathe Sivier      msivier4@google.ru"
      ]
     },
     "execution_count": 4,
     "metadata": {},
     "output_type": "execute_result"
    }
   ],
   "source": [
    "csv1.head(5)"
   ]
  },
  {
   "cell_type": "markdown",
   "metadata": {},
   "source": [
    "#### Load first names"
   ]
  },
  {
   "cell_type": "code",
   "execution_count": 5,
   "metadata": {},
   "outputs": [],
   "source": [
    "csv2_first_names = pd.read_csv(r\"./data/first_names.txt\", header=None, names=['first_name'])"
   ]
  },
  {
   "cell_type": "code",
   "execution_count": 6,
   "metadata": {},
   "outputs": [
    {
     "data": {
      "text/plain": [
       "(19948, 1)"
      ]
     },
     "execution_count": 6,
     "metadata": {},
     "output_type": "execute_result"
    }
   ],
   "source": [
    "csv2_first_names.shape"
   ]
  },
  {
   "cell_type": "code",
   "execution_count": 7,
   "metadata": {},
   "outputs": [
    {
     "data": {
      "text/html": [
       "<div>\n",
       "<style scoped>\n",
       "    .dataframe tbody tr th:only-of-type {\n",
       "        vertical-align: middle;\n",
       "    }\n",
       "\n",
       "    .dataframe tbody tr th {\n",
       "        vertical-align: top;\n",
       "    }\n",
       "\n",
       "    .dataframe thead th {\n",
       "        text-align: right;\n",
       "    }\n",
       "</style>\n",
       "<table border=\"1\" class=\"dataframe\">\n",
       "  <thead>\n",
       "    <tr style=\"text-align: right;\">\n",
       "      <th></th>\n",
       "      <th>first_name</th>\n",
       "    </tr>\n",
       "  </thead>\n",
       "  <tbody>\n",
       "    <tr>\n",
       "      <th>0</th>\n",
       "      <td>Añaterve</td>\n",
       "    </tr>\n",
       "    <tr>\n",
       "      <th>1</th>\n",
       "      <td>Añes</td>\n",
       "    </tr>\n",
       "    <tr>\n",
       "      <th>2</th>\n",
       "      <td>Aadil</td>\n",
       "    </tr>\n",
       "    <tr>\n",
       "      <th>3</th>\n",
       "      <td>Aali</td>\n",
       "    </tr>\n",
       "    <tr>\n",
       "      <th>4</th>\n",
       "      <td>Aaliyah</td>\n",
       "    </tr>\n",
       "  </tbody>\n",
       "</table>\n",
       "</div>"
      ],
      "text/plain": [
       "  first_name\n",
       "0   Añaterve\n",
       "1       Añes\n",
       "2      Aadil\n",
       "3       Aali\n",
       "4    Aaliyah"
      ]
     },
     "execution_count": 7,
     "metadata": {},
     "output_type": "execute_result"
    }
   ],
   "source": [
    "csv2_first_names.head(5)"
   ]
  },
  {
   "cell_type": "markdown",
   "metadata": {},
   "source": [
    "#### Load surnames"
   ]
  },
  {
   "cell_type": "code",
   "execution_count": 8,
   "metadata": {},
   "outputs": [],
   "source": [
    "csv2_surnames = pd.read_csv(r\"./data/surnames.txt\", error_bad_lines=False, header=None, names=['surname'])"
   ]
  },
  {
   "cell_type": "code",
   "execution_count": 9,
   "metadata": {},
   "outputs": [
    {
     "data": {
      "text/plain": [
       "(88025, 1)"
      ]
     },
     "execution_count": 9,
     "metadata": {},
     "output_type": "execute_result"
    }
   ],
   "source": [
    "csv2_surnames.shape"
   ]
  },
  {
   "cell_type": "code",
   "execution_count": 10,
   "metadata": {},
   "outputs": [
    {
     "data": {
      "text/html": [
       "<div>\n",
       "<style scoped>\n",
       "    .dataframe tbody tr th:only-of-type {\n",
       "        vertical-align: middle;\n",
       "    }\n",
       "\n",
       "    .dataframe tbody tr th {\n",
       "        vertical-align: top;\n",
       "    }\n",
       "\n",
       "    .dataframe thead th {\n",
       "        text-align: right;\n",
       "    }\n",
       "</style>\n",
       "<table border=\"1\" class=\"dataframe\">\n",
       "  <thead>\n",
       "    <tr style=\"text-align: right;\">\n",
       "      <th></th>\n",
       "      <th>surname</th>\n",
       "    </tr>\n",
       "  </thead>\n",
       "  <tbody>\n",
       "    <tr>\n",
       "      <th>0</th>\n",
       "      <td>Ñeco</td>\n",
       "    </tr>\n",
       "    <tr>\n",
       "      <th>1</th>\n",
       "      <td>Ñiguez</td>\n",
       "    </tr>\n",
       "    <tr>\n",
       "      <th>2</th>\n",
       "      <td>Açaola</td>\n",
       "    </tr>\n",
       "    <tr>\n",
       "      <th>3</th>\n",
       "      <td>Añaños</td>\n",
       "    </tr>\n",
       "    <tr>\n",
       "      <th>4</th>\n",
       "      <td>Añale</td>\n",
       "    </tr>\n",
       "  </tbody>\n",
       "</table>\n",
       "</div>"
      ],
      "text/plain": [
       "  surname\n",
       "0    Ñeco\n",
       "1  Ñiguez\n",
       "2  Açaola\n",
       "3  Añaños\n",
       "4   Añale"
      ]
     },
     "execution_count": 10,
     "metadata": {},
     "output_type": "execute_result"
    }
   ],
   "source": [
    "csv2_surnames.head(5)"
   ]
  },
  {
   "cell_type": "markdown",
   "metadata": {},
   "source": [
    "#### Let's mix first names and surnames randomly"
   ]
  },
  {
   "cell_type": "code",
   "execution_count": 11,
   "metadata": {},
   "outputs": [
    {
     "data": {
      "text/plain": [
       "'Billi'"
      ]
     },
     "execution_count": 11,
     "metadata": {},
     "output_type": "execute_result"
    }
   ],
   "source": [
    "sample = csv2_first_names['first_name'].iloc[np.random.choice(csv2_first_names.shape[0])]\n",
    "sample"
   ]
  },
  {
   "cell_type": "code",
   "execution_count": 12,
   "metadata": {},
   "outputs": [
    {
     "name": "stdout",
     "output_type": "stream",
     "text": [
      "Wall time: 6.52 s\n"
     ]
    }
   ],
   "source": [
    "%%time\n",
    "csv2 = pd.DataFrame()\n",
    "csv2[\"full_name\"] = csv2_surnames['surname'].apply(lambda x : '{} {}'.format(csv2_first_names['first_name'].iloc[np.random.choice(csv2_first_names.shape[0])], x))"
   ]
  },
  {
   "cell_type": "code",
   "execution_count": 13,
   "metadata": {},
   "outputs": [
    {
     "data": {
      "text/html": [
       "<div>\n",
       "<style scoped>\n",
       "    .dataframe tbody tr th:only-of-type {\n",
       "        vertical-align: middle;\n",
       "    }\n",
       "\n",
       "    .dataframe tbody tr th {\n",
       "        vertical-align: top;\n",
       "    }\n",
       "\n",
       "    .dataframe thead th {\n",
       "        text-align: right;\n",
       "    }\n",
       "</style>\n",
       "<table border=\"1\" class=\"dataframe\">\n",
       "  <thead>\n",
       "    <tr style=\"text-align: right;\">\n",
       "      <th></th>\n",
       "      <th>full_name</th>\n",
       "    </tr>\n",
       "  </thead>\n",
       "  <tbody>\n",
       "    <tr>\n",
       "      <th>88020</th>\n",
       "      <td>Ludivina Zwolenksy</td>\n",
       "    </tr>\n",
       "    <tr>\n",
       "      <th>88021</th>\n",
       "      <td>Sherley Zydz</td>\n",
       "    </tr>\n",
       "    <tr>\n",
       "      <th>88022</th>\n",
       "      <td>Chad Zylinsk</td>\n",
       "    </tr>\n",
       "    <tr>\n",
       "      <th>88023</th>\n",
       "      <td>Gian Zylstra</td>\n",
       "    </tr>\n",
       "    <tr>\n",
       "      <th>88024</th>\n",
       "      <td>Rashad Zywiyask</td>\n",
       "    </tr>\n",
       "  </tbody>\n",
       "</table>\n",
       "</div>"
      ],
      "text/plain": [
       "                full_name\n",
       "88020  Ludivina Zwolenksy\n",
       "88021        Sherley Zydz\n",
       "88022        Chad Zylinsk\n",
       "88023        Gian Zylstra\n",
       "88024     Rashad Zywiyask"
      ]
     },
     "execution_count": 13,
     "metadata": {},
     "output_type": "execute_result"
    }
   ],
   "source": [
    "csv2.tail(5)"
   ]
  },
  {
   "cell_type": "markdown",
   "metadata": {},
   "source": [
    "Shortcut to load and save the full name, instead of randomly generating them on each run"
   ]
  },
  {
   "cell_type": "code",
   "execution_count": 14,
   "metadata": {},
   "outputs": [],
   "source": [
    "csv2 = pd.read_csv(r\"./data/full_names.txt\", header=None, names=['full_name'])"
   ]
  },
  {
   "cell_type": "code",
   "execution_count": null,
   "metadata": {},
   "outputs": [],
   "source": [
    "# csv2.to_csv(r'./data/full_names.txt', index=False)"
   ]
  },
  {
   "cell_type": "markdown",
   "metadata": {},
   "source": [
    "#### Start comparing"
   ]
  },
  {
   "cell_type": "code",
   "execution_count": null,
   "metadata": {},
   "outputs": [],
   "source": [
    "compare = pd.MultiIndex.from_product([csv1[\"full name\"], csv2[\"full_name\"]]).to_series()"
   ]
  },
  {
   "cell_type": "code",
   "execution_count": null,
   "metadata": {},
   "outputs": [],
   "source": [
    "def distances(vals):\n",
    "    return pd.Series([fuzz.ratio(*vals), fuzz.token_sort_ratio(*vals)], ['ratio', 'token'])"
   ]
  },
  {
   "cell_type": "code",
   "execution_count": null,
   "metadata": {},
   "outputs": [],
   "source": [
    "%%time\n",
    "results = compare.apply(distances)"
   ]
  },
  {
   "cell_type": "code",
   "execution_count": null,
   "metadata": {},
   "outputs": [],
   "source": [
    "results.sort_values('ratio', ascending=False).head(10)"
   ]
  },
  {
   "cell_type": "code",
   "execution_count": null,
   "metadata": {},
   "outputs": [],
   "source": [
    "results[\"Value\"] = results[\"token\"]"
   ]
  },
  {
   "cell_type": "code",
   "execution_count": null,
   "metadata": {},
   "outputs": [],
   "source": [
    "results.sort_values('token', ascending=False).head(10)"
   ]
  },
  {
   "cell_type": "markdown",
   "metadata": {},
   "source": [
    "#### Show final results"
   ]
  },
  {
   "cell_type": "code",
   "execution_count": null,
   "metadata": {},
   "outputs": [],
   "source": [
    "%%time\n",
    "output = results.unstack().idxmax(0).unstack(0)\n",
    "output.head(5)"
   ]
  },
  {
   "cell_type": "code",
   "execution_count": null,
   "metadata": {},
   "outputs": [],
   "source": [
    "output = results.unstack()\n",
    "output.head(5)"
   ]
  },
  {
   "cell_type": "markdown",
   "metadata": {},
   "source": [
    "#### Distribute it with Dask!"
   ]
  },
  {
   "cell_type": "code",
   "execution_count": 15,
   "metadata": {},
   "outputs": [],
   "source": [
    "compare = pd.MultiIndex.from_product([csv1[\"full name\"], csv2[\"full_name\"]]).to_series()\n",
    "dcompare = dd.from_pandas(compare.reset_index(), npartitions=8)"
   ]
  },
  {
   "cell_type": "code",
   "execution_count": 16,
   "metadata": {},
   "outputs": [
    {
     "data": {
      "text/html": [
       "<div><strong>Dask DataFrame Structure:</strong></div>\n",
       "<div>\n",
       "<style scoped>\n",
       "    .dataframe tbody tr th:only-of-type {\n",
       "        vertical-align: middle;\n",
       "    }\n",
       "\n",
       "    .dataframe tbody tr th {\n",
       "        vertical-align: top;\n",
       "    }\n",
       "\n",
       "    .dataframe thead th {\n",
       "        text-align: right;\n",
       "    }\n",
       "</style>\n",
       "<table border=\"1\" class=\"dataframe\">\n",
       "  <thead>\n",
       "    <tr style=\"text-align: right;\">\n",
       "      <th></th>\n",
       "      <th>full name</th>\n",
       "      <th>full_name</th>\n",
       "      <th>0</th>\n",
       "    </tr>\n",
       "    <tr>\n",
       "      <th>npartitions=8</th>\n",
       "      <th></th>\n",
       "      <th></th>\n",
       "      <th></th>\n",
       "    </tr>\n",
       "  </thead>\n",
       "  <tbody>\n",
       "    <tr>\n",
       "      <th>0</th>\n",
       "      <td>object</td>\n",
       "      <td>object</td>\n",
       "      <td>object</td>\n",
       "    </tr>\n",
       "    <tr>\n",
       "      <th>308091</th>\n",
       "      <td>...</td>\n",
       "      <td>...</td>\n",
       "      <td>...</td>\n",
       "    </tr>\n",
       "    <tr>\n",
       "      <th>...</th>\n",
       "      <td>...</td>\n",
       "      <td>...</td>\n",
       "      <td>...</td>\n",
       "    </tr>\n",
       "    <tr>\n",
       "      <th>2156637</th>\n",
       "      <td>...</td>\n",
       "      <td>...</td>\n",
       "      <td>...</td>\n",
       "    </tr>\n",
       "    <tr>\n",
       "      <th>2464727</th>\n",
       "      <td>...</td>\n",
       "      <td>...</td>\n",
       "      <td>...</td>\n",
       "    </tr>\n",
       "  </tbody>\n",
       "</table>\n",
       "</div>\n",
       "<div>Dask Name: from_pandas, 8 tasks</div>"
      ],
      "text/plain": [
       "Dask DataFrame Structure:\n",
       "              full name full_name       0\n",
       "npartitions=8                            \n",
       "0                object    object  object\n",
       "308091              ...       ...     ...\n",
       "...                 ...       ...     ...\n",
       "2156637             ...       ...     ...\n",
       "2464727             ...       ...     ...\n",
       "Dask Name: from_pandas, 8 tasks"
      ]
     },
     "execution_count": 16,
     "metadata": {},
     "output_type": "execute_result"
    }
   ],
   "source": [
    "dcompare"
   ]
  },
  {
   "cell_type": "code",
   "execution_count": null,
   "metadata": {},
   "outputs": [],
   "source": [
    "%%time\n",
    "results = dcompare.apply(distances, axis=1)"
   ]
  },
  {
   "cell_type": "code",
   "execution_count": null,
   "metadata": {},
   "outputs": [],
   "source": [
    "%%time\n",
    "ddcompare.compute(scheduler='processes')"
   ]
  },
  {
   "cell_type": "code",
   "execution_count": null,
   "metadata": {},
   "outputs": [],
   "source": [
    "dcompare"
   ]
  },
  {
   "cell_type": "code",
   "execution_count": null,
   "metadata": {},
   "outputs": [],
   "source": [
    "dcompare.shape"
   ]
  },
  {
   "cell_type": "code",
   "execution_count": 22,
   "metadata": {},
   "outputs": [],
   "source": [
    "def ddistances(vals):\n",
    "    return pd.Series([fuzz.ratio(*vals[[\"full name\", \"full_name\"]]), fuzz.token_sort_ratio(*vals[[\"full name\", \"full_name\"]])], ['ratio', 'token'])"
   ]
  },
  {
   "cell_type": "code",
   "execution_count": 23,
   "metadata": {},
   "outputs": [
    {
     "name": "stdout",
     "output_type": "stream",
     "text": [
      "Wall time: 12 ms\n"
     ]
    },
    {
     "name": "stderr",
     "output_type": "stream",
     "text": [
      "E:\\Development\\Anaconda3\\lib\\site-packages\\dask\\dataframe\\core.py:4487: UserWarning: \n",
      "You did not provide metadata, so Dask is running your function on a small dataset to guess output types. It is possible that Dask will guess incorrectly.\n",
      "To provide an explicit output types or to silence this message, please provide the `meta=` keyword, as described in the map or apply function that you are using.\n",
      "  Before: .apply(func)\n",
      "  After:  .apply(func, meta={'ratio': 'int64', 'token': 'int64'})\n",
      "\n",
      "  warnings.warn(meta_warning(meta))\n"
     ]
    }
   ],
   "source": [
    "%%time\n",
    "results = dcompare.apply(ddistances, axis=1)"
   ]
  },
  {
   "cell_type": "code",
   "execution_count": null,
   "metadata": {},
   "outputs": [],
   "source": [
    "results.shape"
   ]
  },
  {
   "cell_type": "code",
   "execution_count": 24,
   "metadata": {},
   "outputs": [
    {
     "name": "stdout",
     "output_type": "stream",
     "text": [
      "Wall time: 315 ms\n"
     ]
    },
    {
     "data": {
      "text/html": [
       "<div>\n",
       "<style scoped>\n",
       "    .dataframe tbody tr th:only-of-type {\n",
       "        vertical-align: middle;\n",
       "    }\n",
       "\n",
       "    .dataframe tbody tr th {\n",
       "        vertical-align: top;\n",
       "    }\n",
       "\n",
       "    .dataframe thead th {\n",
       "        text-align: right;\n",
       "    }\n",
       "</style>\n",
       "<table border=\"1\" class=\"dataframe\">\n",
       "  <thead>\n",
       "    <tr style=\"text-align: right;\">\n",
       "      <th></th>\n",
       "      <th>full name</th>\n",
       "      <th>full_name</th>\n",
       "      <th>0</th>\n",
       "    </tr>\n",
       "  </thead>\n",
       "  <tbody>\n",
       "    <tr>\n",
       "      <th>0</th>\n",
       "      <td>Mirelle Spire Kirtley</td>\n",
       "      <td>full_name</td>\n",
       "      <td>(Mirelle Spire Kirtley, full_name)</td>\n",
       "    </tr>\n",
       "    <tr>\n",
       "      <th>1</th>\n",
       "      <td>Mirelle Spire Kirtley</td>\n",
       "      <td>Karttikeya Ñeco</td>\n",
       "      <td>(Mirelle Spire Kirtley, Karttikeya Ñeco)</td>\n",
       "    </tr>\n",
       "    <tr>\n",
       "      <th>2</th>\n",
       "      <td>Mirelle Spire Kirtley</td>\n",
       "      <td>Zakari Ñiguez</td>\n",
       "      <td>(Mirelle Spire Kirtley, Zakari Ñiguez)</td>\n",
       "    </tr>\n",
       "    <tr>\n",
       "      <th>3</th>\n",
       "      <td>Mirelle Spire Kirtley</td>\n",
       "      <td>Nagore Açaola</td>\n",
       "      <td>(Mirelle Spire Kirtley, Nagore Açaola)</td>\n",
       "    </tr>\n",
       "    <tr>\n",
       "      <th>4</th>\n",
       "      <td>Mirelle Spire Kirtley</td>\n",
       "      <td>Jianmei Añaños</td>\n",
       "      <td>(Mirelle Spire Kirtley, Jianmei Añaños)</td>\n",
       "    </tr>\n",
       "    <tr>\n",
       "      <th>...</th>\n",
       "      <td>...</td>\n",
       "      <td>...</td>\n",
       "      <td>...</td>\n",
       "    </tr>\n",
       "    <tr>\n",
       "      <th>2464723</th>\n",
       "      <td>Helen Maria Tiez</td>\n",
       "      <td>Sherley Zwolenksy</td>\n",
       "      <td>(Helen Maria Tiez, Sherley Zwolenksy)</td>\n",
       "    </tr>\n",
       "    <tr>\n",
       "      <th>2464724</th>\n",
       "      <td>Helen Maria Tiez</td>\n",
       "      <td>Chad Zydz</td>\n",
       "      <td>(Helen Maria Tiez, Chad Zydz)</td>\n",
       "    </tr>\n",
       "    <tr>\n",
       "      <th>2464725</th>\n",
       "      <td>Helen Maria Tiez</td>\n",
       "      <td>Gian Zylinsk</td>\n",
       "      <td>(Helen Maria Tiez, Gian Zylinsk)</td>\n",
       "    </tr>\n",
       "    <tr>\n",
       "      <th>2464726</th>\n",
       "      <td>Helen Maria Tiez</td>\n",
       "      <td>Rashad Zylstra</td>\n",
       "      <td>(Helen Maria Tiez, Rashad Zylstra)</td>\n",
       "    </tr>\n",
       "    <tr>\n",
       "      <th>2464727</th>\n",
       "      <td>Helen Maria Tiez</td>\n",
       "      <td>Miaomiao Zywiyask</td>\n",
       "      <td>(Helen Maria Tiez, Miaomiao Zywiyask)</td>\n",
       "    </tr>\n",
       "  </tbody>\n",
       "</table>\n",
       "<p>2464728 rows × 3 columns</p>\n",
       "</div>"
      ],
      "text/plain": [
       "                     full name          full_name  \\\n",
       "0        Mirelle Spire Kirtley          full_name   \n",
       "1        Mirelle Spire Kirtley    Karttikeya Ñeco   \n",
       "2        Mirelle Spire Kirtley      Zakari Ñiguez   \n",
       "3        Mirelle Spire Kirtley      Nagore Açaola   \n",
       "4        Mirelle Spire Kirtley     Jianmei Añaños   \n",
       "...                        ...                ...   \n",
       "2464723       Helen Maria Tiez  Sherley Zwolenksy   \n",
       "2464724       Helen Maria Tiez          Chad Zydz   \n",
       "2464725       Helen Maria Tiez       Gian Zylinsk   \n",
       "2464726       Helen Maria Tiez     Rashad Zylstra   \n",
       "2464727       Helen Maria Tiez  Miaomiao Zywiyask   \n",
       "\n",
       "                                                0  \n",
       "0              (Mirelle Spire Kirtley, full_name)  \n",
       "1        (Mirelle Spire Kirtley, Karttikeya Ñeco)  \n",
       "2          (Mirelle Spire Kirtley, Zakari Ñiguez)  \n",
       "3          (Mirelle Spire Kirtley, Nagore Açaola)  \n",
       "4         (Mirelle Spire Kirtley, Jianmei Añaños)  \n",
       "...                                           ...  \n",
       "2464723     (Helen Maria Tiez, Sherley Zwolenksy)  \n",
       "2464724             (Helen Maria Tiez, Chad Zydz)  \n",
       "2464725          (Helen Maria Tiez, Gian Zylinsk)  \n",
       "2464726        (Helen Maria Tiez, Rashad Zylstra)  \n",
       "2464727     (Helen Maria Tiez, Miaomiao Zywiyask)  \n",
       "\n",
       "[2464728 rows x 3 columns]"
      ]
     },
     "execution_count": 24,
     "metadata": {},
     "output_type": "execute_result"
    }
   ],
   "source": [
    "%%time\n",
    "dcompare.compute(scheduler='processes') "
   ]
  },
  {
   "cell_type": "code",
   "execution_count": null,
   "metadata": {},
   "outputs": [],
   "source": [
    "results.head()"
   ]
  },
  {
   "cell_type": "code",
   "execution_count": null,
   "metadata": {},
   "outputs": [],
   "source": [
    "def fuzzy_score(str1, str2):\n",
    "    return fuzz.token_set_ratio(str1, str2)\n",
    "\n",
    "def helper(orig_string, slave_df):\n",
    "    slave_df['ratio'] = slave_df.apply(lambda x: fuzzy_score(x,orig_string))\n",
    "    return slave_df\n",
    "    #return my_value corresponding to the highest score\n",
    "#     return slave_df.loc[slave_df.ratio.idxmax(),'ratio']\n",
    "\n",
    "dcsv1 = dd.from_pandas(csv1[\"full name\"], npartitions=8)\n",
    "# results = csv1\n",
    "# results[\"ratio\"] = dcsv1.apply(lambda x: helper(x, csv2[\"full_name\"]),meta=('x','f8'))\n",
    "results = dcsv1.apply(lambda x: helper(x, csv2[\"full_name\"]),meta=('x','f8'))"
   ]
  },
  {
   "cell_type": "code",
   "execution_count": null,
   "metadata": {},
   "outputs": [],
   "source": [
    "%%time\n",
    "dcsv1.compute(scheduler='processes') "
   ]
  },
  {
   "cell_type": "code",
   "execution_count": null,
   "metadata": {},
   "outputs": [],
   "source": [
    "csv1.head()"
   ]
  },
  {
   "cell_type": "code",
   "execution_count": null,
   "metadata": {},
   "outputs": [],
   "source": []
  }
 ],
 "metadata": {
  "kernelspec": {
   "display_name": "Python 3",
   "language": "python",
   "name": "python3"
  },
  "language_info": {
   "codemirror_mode": {
    "name": "ipython",
    "version": 3
   },
   "file_extension": ".py",
   "mimetype": "text/x-python",
   "name": "python",
   "nbconvert_exporter": "python",
   "pygments_lexer": "ipython3",
   "version": "3.7.9"
  }
 },
 "nbformat": 4,
 "nbformat_minor": 4
}
